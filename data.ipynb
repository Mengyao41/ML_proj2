{
 "cells": [
  {
   "cell_type": "markdown",
   "metadata": {},
   "source": [
    "# Machine Learning in Python - Group Project 2\n",
    "\n",
    "**Due Friday, April 14th by 16.00 pm.**\n",
    "\n",
    "*include contributors names here (such as Name1, Name2, ...)* (Group Name)"
   ]
  },
  {
   "cell_type": "markdown",
   "metadata": {},
   "source": [
    "## General Setup"
   ]
  },
  {
   "cell_type": "code",
   "execution_count": 1,
   "metadata": {},
   "outputs": [],
   "source": [
    "# Add any additional libraries or submodules below\n",
    "\n",
    "# Display plots inline\n",
    "%matplotlib inline\n",
    "\n",
    "# Data libraries\n",
    "import pandas as pd\n",
    "import numpy as np\n",
    "\n",
    "# Plotting libraries\n",
    "import matplotlib.pyplot as plt\n",
    "import seaborn as sns\n",
    "\n",
    "# sklearn modules\n",
    "import sklearn"
   ]
  },
  {
   "cell_type": "code",
   "execution_count": 2,
   "metadata": {},
   "outputs": [],
   "source": [
    "# Plotting defaults\n",
    "plt.rcParams['figure.figsize'] = (8,5)\n",
    "plt.rcParams['figure.dpi'] = 80"
   ]
  },
  {
   "cell_type": "code",
   "execution_count": 3,
   "metadata": {},
   "outputs": [],
   "source": [
    "# Load data\n",
    "d = pd.read_csv(\"hotel.csv\")"
   ]
  },
  {
   "cell_type": "code",
   "execution_count": 4,
   "metadata": {},
   "outputs": [
    {
     "data": {
      "text/html": [
       "<div>\n",
       "<style scoped>\n",
       "    .dataframe tbody tr th:only-of-type {\n",
       "        vertical-align: middle;\n",
       "    }\n",
       "\n",
       "    .dataframe tbody tr th {\n",
       "        vertical-align: top;\n",
       "    }\n",
       "\n",
       "    .dataframe thead th {\n",
       "        text-align: right;\n",
       "    }\n",
       "</style>\n",
       "<table border=\"1\" class=\"dataframe\">\n",
       "  <thead>\n",
       "    <tr style=\"text-align: right;\">\n",
       "      <th></th>\n",
       "      <th>is_canceled</th>\n",
       "      <th>hotel</th>\n",
       "      <th>lead_time</th>\n",
       "      <th>arrival_date_year</th>\n",
       "      <th>arrival_date_month</th>\n",
       "      <th>arrival_date_week_number</th>\n",
       "      <th>arrival_date_day_of_month</th>\n",
       "      <th>stays_in_weekend_nights</th>\n",
       "      <th>stays_in_week_nights</th>\n",
       "      <th>adults</th>\n",
       "      <th>...</th>\n",
       "      <th>assigned_room_type</th>\n",
       "      <th>booking_changes</th>\n",
       "      <th>deposit_type</th>\n",
       "      <th>agent</th>\n",
       "      <th>company</th>\n",
       "      <th>days_in_waiting_list</th>\n",
       "      <th>customer_type</th>\n",
       "      <th>adr</th>\n",
       "      <th>required_car_parking_spaces</th>\n",
       "      <th>total_of_special_requests</th>\n",
       "    </tr>\n",
       "  </thead>\n",
       "  <tbody>\n",
       "    <tr>\n",
       "      <th>0</th>\n",
       "      <td>0</td>\n",
       "      <td>Resort Hotel</td>\n",
       "      <td>342</td>\n",
       "      <td>2015</td>\n",
       "      <td>July</td>\n",
       "      <td>27</td>\n",
       "      <td>1</td>\n",
       "      <td>0</td>\n",
       "      <td>0</td>\n",
       "      <td>2</td>\n",
       "      <td>...</td>\n",
       "      <td>C</td>\n",
       "      <td>3</td>\n",
       "      <td>No Deposit</td>\n",
       "      <td>NaN</td>\n",
       "      <td>NaN</td>\n",
       "      <td>0</td>\n",
       "      <td>Transient</td>\n",
       "      <td>0.0</td>\n",
       "      <td>0</td>\n",
       "      <td>0</td>\n",
       "    </tr>\n",
       "    <tr>\n",
       "      <th>1</th>\n",
       "      <td>0</td>\n",
       "      <td>Resort Hotel</td>\n",
       "      <td>737</td>\n",
       "      <td>2015</td>\n",
       "      <td>July</td>\n",
       "      <td>27</td>\n",
       "      <td>1</td>\n",
       "      <td>0</td>\n",
       "      <td>0</td>\n",
       "      <td>2</td>\n",
       "      <td>...</td>\n",
       "      <td>C</td>\n",
       "      <td>4</td>\n",
       "      <td>No Deposit</td>\n",
       "      <td>NaN</td>\n",
       "      <td>NaN</td>\n",
       "      <td>0</td>\n",
       "      <td>Transient</td>\n",
       "      <td>0.0</td>\n",
       "      <td>0</td>\n",
       "      <td>0</td>\n",
       "    </tr>\n",
       "    <tr>\n",
       "      <th>2</th>\n",
       "      <td>0</td>\n",
       "      <td>Resort Hotel</td>\n",
       "      <td>7</td>\n",
       "      <td>2015</td>\n",
       "      <td>July</td>\n",
       "      <td>27</td>\n",
       "      <td>1</td>\n",
       "      <td>0</td>\n",
       "      <td>1</td>\n",
       "      <td>1</td>\n",
       "      <td>...</td>\n",
       "      <td>C</td>\n",
       "      <td>0</td>\n",
       "      <td>No Deposit</td>\n",
       "      <td>NaN</td>\n",
       "      <td>NaN</td>\n",
       "      <td>0</td>\n",
       "      <td>Transient</td>\n",
       "      <td>75.0</td>\n",
       "      <td>0</td>\n",
       "      <td>0</td>\n",
       "    </tr>\n",
       "  </tbody>\n",
       "</table>\n",
       "<p>3 rows × 30 columns</p>\n",
       "</div>"
      ],
      "text/plain": [
       "   is_canceled         hotel  lead_time  arrival_date_year arrival_date_month  \\\n",
       "0            0  Resort Hotel        342               2015               July   \n",
       "1            0  Resort Hotel        737               2015               July   \n",
       "2            0  Resort Hotel          7               2015               July   \n",
       "\n",
       "   arrival_date_week_number  arrival_date_day_of_month  \\\n",
       "0                        27                          1   \n",
       "1                        27                          1   \n",
       "2                        27                          1   \n",
       "\n",
       "   stays_in_weekend_nights  stays_in_week_nights  adults  ...  \\\n",
       "0                        0                     0       2  ...   \n",
       "1                        0                     0       2  ...   \n",
       "2                        0                     1       1  ...   \n",
       "\n",
       "   assigned_room_type  booking_changes deposit_type agent company  \\\n",
       "0                   C                3   No Deposit   NaN     NaN   \n",
       "1                   C                4   No Deposit   NaN     NaN   \n",
       "2                   C                0   No Deposit   NaN     NaN   \n",
       "\n",
       "  days_in_waiting_list  customer_type   adr  required_car_parking_spaces  \\\n",
       "0                    0      Transient   0.0                            0   \n",
       "1                    0      Transient   0.0                            0   \n",
       "2                    0      Transient  75.0                            0   \n",
       "\n",
       "  total_of_special_requests  \n",
       "0                         0  \n",
       "1                         0  \n",
       "2                         0  \n",
       "\n",
       "[3 rows x 30 columns]"
      ]
     },
     "execution_count": 4,
     "metadata": {},
     "output_type": "execute_result"
    }
   ],
   "source": [
    "d.head(3)"
   ]
  },
  {
   "cell_type": "code",
   "execution_count": 5,
   "metadata": {},
   "outputs": [
    {
     "name": "stdout",
     "output_type": "stream",
     "text": [
      "<class 'pandas.core.frame.DataFrame'>\n",
      "RangeIndex: 119390 entries, 0 to 119389\n",
      "Data columns (total 30 columns):\n",
      " #   Column                          Non-Null Count   Dtype  \n",
      "---  ------                          --------------   -----  \n",
      " 0   is_canceled                     119390 non-null  int64  \n",
      " 1   hotel                           119390 non-null  object \n",
      " 2   lead_time                       119390 non-null  int64  \n",
      " 3   arrival_date_year               119390 non-null  int64  \n",
      " 4   arrival_date_month              119390 non-null  object \n",
      " 5   arrival_date_week_number        119390 non-null  int64  \n",
      " 6   arrival_date_day_of_month       119390 non-null  int64  \n",
      " 7   stays_in_weekend_nights         119390 non-null  int64  \n",
      " 8   stays_in_week_nights            119390 non-null  int64  \n",
      " 9   adults                          119390 non-null  int64  \n",
      " 10  children                        119386 non-null  float64\n",
      " 11  babies                          119390 non-null  int64  \n",
      " 12  meal                            119390 non-null  object \n",
      " 13  country                         118902 non-null  object \n",
      " 14  market_segment                  119390 non-null  object \n",
      " 15  distribution_channel            119390 non-null  object \n",
      " 16  is_repeated_guest               119390 non-null  int64  \n",
      " 17  previous_cancellations          119390 non-null  int64  \n",
      " 18  previous_bookings_not_canceled  119390 non-null  int64  \n",
      " 19  reserved_room_type              119390 non-null  object \n",
      " 20  assigned_room_type              119390 non-null  object \n",
      " 21  booking_changes                 119390 non-null  int64  \n",
      " 22  deposit_type                    119390 non-null  object \n",
      " 23  agent                           103050 non-null  float64\n",
      " 24  company                         6797 non-null    float64\n",
      " 25  days_in_waiting_list            119390 non-null  int64  \n",
      " 26  customer_type                   119390 non-null  object \n",
      " 27  adr                             119390 non-null  float64\n",
      " 28  required_car_parking_spaces     119390 non-null  int64  \n",
      " 29  total_of_special_requests       119390 non-null  int64  \n",
      "dtypes: float64(4), int64(16), object(10)\n",
      "memory usage: 27.3+ MB\n"
     ]
    }
   ],
   "source": [
    "d.info()"
   ]
  },
  {
   "cell_type": "code",
   "execution_count": 6,
   "metadata": {},
   "outputs": [
    {
     "data": {
      "text/html": [
       "<div>\n",
       "<style scoped>\n",
       "    .dataframe tbody tr th:only-of-type {\n",
       "        vertical-align: middle;\n",
       "    }\n",
       "\n",
       "    .dataframe tbody tr th {\n",
       "        vertical-align: top;\n",
       "    }\n",
       "\n",
       "    .dataframe thead th {\n",
       "        text-align: right;\n",
       "    }\n",
       "</style>\n",
       "<table border=\"1\" class=\"dataframe\">\n",
       "  <thead>\n",
       "    <tr style=\"text-align: right;\">\n",
       "      <th></th>\n",
       "      <th>agent</th>\n",
       "      <th>company</th>\n",
       "    </tr>\n",
       "  </thead>\n",
       "  <tbody>\n",
       "    <tr>\n",
       "      <th>0</th>\n",
       "      <td>0.0</td>\n",
       "      <td>0.0</td>\n",
       "    </tr>\n",
       "    <tr>\n",
       "      <th>1</th>\n",
       "      <td>0.0</td>\n",
       "      <td>0.0</td>\n",
       "    </tr>\n",
       "    <tr>\n",
       "      <th>2</th>\n",
       "      <td>0.0</td>\n",
       "      <td>0.0</td>\n",
       "    </tr>\n",
       "    <tr>\n",
       "      <th>3</th>\n",
       "      <td>304.0</td>\n",
       "      <td>0.0</td>\n",
       "    </tr>\n",
       "    <tr>\n",
       "      <th>4</th>\n",
       "      <td>240.0</td>\n",
       "      <td>0.0</td>\n",
       "    </tr>\n",
       "  </tbody>\n",
       "</table>\n",
       "</div>"
      ],
      "text/plain": [
       "   agent  company\n",
       "0    0.0      0.0\n",
       "1    0.0      0.0\n",
       "2    0.0      0.0\n",
       "3  304.0      0.0\n",
       "4  240.0      0.0"
      ]
     },
     "execution_count": 6,
     "metadata": {},
     "output_type": "execute_result"
    }
   ],
   "source": [
    "d['agent'] = d['agent'].fillna(0)\n",
    "d['company'] = d['company'].fillna(0)\n",
    "d[['agent', 'company']].head(5)"
   ]
  },
  {
   "cell_type": "code",
   "execution_count": 7,
   "metadata": {},
   "outputs": [
    {
     "data": {
      "text/plain": [
       "0"
      ]
     },
     "execution_count": 7,
     "metadata": {},
     "output_type": "execute_result"
    }
   ],
   "source": [
    "d.loc[d['meal'] == 'Undefined', 'meal'] = 'SC'\n",
    "len(d[d['meal'].isin(['Undefined'])])"
   ]
  },
  {
   "cell_type": "code",
   "execution_count": 8,
   "metadata": {},
   "outputs": [],
   "source": [
    "d.replace('Undefined', np.nan, inplace = True)"
   ]
  },
  {
   "cell_type": "code",
   "execution_count": 9,
   "metadata": {},
   "outputs": [
    {
     "data": {
      "text/plain": [
       "is_canceled                         0\n",
       "hotel                               0\n",
       "lead_time                           0\n",
       "arrival_date_year                   0\n",
       "arrival_date_month                  0\n",
       "arrival_date_week_number            0\n",
       "arrival_date_day_of_month           0\n",
       "stays_in_weekend_nights             0\n",
       "stays_in_week_nights                0\n",
       "adults                              0\n",
       "children                            4\n",
       "babies                              0\n",
       "meal                                0\n",
       "country                           488\n",
       "market_segment                      2\n",
       "distribution_channel                5\n",
       "is_repeated_guest                   0\n",
       "previous_cancellations              0\n",
       "previous_bookings_not_canceled      0\n",
       "reserved_room_type                  0\n",
       "assigned_room_type                  0\n",
       "booking_changes                     0\n",
       "deposit_type                        0\n",
       "agent                               0\n",
       "company                             0\n",
       "days_in_waiting_list                0\n",
       "customer_type                       0\n",
       "adr                                 0\n",
       "required_car_parking_spaces         0\n",
       "total_of_special_requests           0\n",
       "dtype: int64"
      ]
     },
     "execution_count": 9,
     "metadata": {},
     "output_type": "execute_result"
    }
   ],
   "source": [
    "d.isnull().sum()"
   ]
  },
  {
   "cell_type": "code",
   "execution_count": 10,
   "metadata": {},
   "outputs": [
    {
     "data": {
      "text/plain": [
       "118897"
      ]
     },
     "execution_count": 10,
     "metadata": {},
     "output_type": "execute_result"
    }
   ],
   "source": [
    "d = d.dropna()\n",
    "len(d)"
   ]
  },
  {
   "cell_type": "code",
   "execution_count": 11,
   "metadata": {},
   "outputs": [
    {
     "data": {
      "text/html": [
       "<div>\n",
       "<style scoped>\n",
       "    .dataframe tbody tr th:only-of-type {\n",
       "        vertical-align: middle;\n",
       "    }\n",
       "\n",
       "    .dataframe tbody tr th {\n",
       "        vertical-align: top;\n",
       "    }\n",
       "\n",
       "    .dataframe thead th {\n",
       "        text-align: right;\n",
       "    }\n",
       "</style>\n",
       "<table border=\"1\" class=\"dataframe\">\n",
       "  <thead>\n",
       "    <tr style=\"text-align: right;\">\n",
       "      <th></th>\n",
       "      <th>is_canceled</th>\n",
       "      <th>hotel</th>\n",
       "      <th>lead_time</th>\n",
       "      <th>arrival_date_year</th>\n",
       "      <th>arrival_date_month</th>\n",
       "      <th>arrival_date_week_number</th>\n",
       "      <th>arrival_date_day_of_month</th>\n",
       "      <th>stays_in_weekend_nights</th>\n",
       "      <th>stays_in_week_nights</th>\n",
       "      <th>adults</th>\n",
       "      <th>...</th>\n",
       "      <th>assigned_room_type</th>\n",
       "      <th>booking_changes</th>\n",
       "      <th>deposit_type</th>\n",
       "      <th>agent</th>\n",
       "      <th>company</th>\n",
       "      <th>days_in_waiting_list</th>\n",
       "      <th>customer_type</th>\n",
       "      <th>adr</th>\n",
       "      <th>required_car_parking_spaces</th>\n",
       "      <th>total_of_special_requests</th>\n",
       "    </tr>\n",
       "  </thead>\n",
       "  <tbody>\n",
       "    <tr>\n",
       "      <th>0</th>\n",
       "      <td>0</td>\n",
       "      <td>Resort Hotel</td>\n",
       "      <td>342</td>\n",
       "      <td>2015</td>\n",
       "      <td>7</td>\n",
       "      <td>27</td>\n",
       "      <td>1</td>\n",
       "      <td>0</td>\n",
       "      <td>0</td>\n",
       "      <td>2</td>\n",
       "      <td>...</td>\n",
       "      <td>C</td>\n",
       "      <td>3</td>\n",
       "      <td>No Deposit</td>\n",
       "      <td>0.0</td>\n",
       "      <td>0.0</td>\n",
       "      <td>0</td>\n",
       "      <td>Transient</td>\n",
       "      <td>0.0</td>\n",
       "      <td>0</td>\n",
       "      <td>0</td>\n",
       "    </tr>\n",
       "    <tr>\n",
       "      <th>1</th>\n",
       "      <td>0</td>\n",
       "      <td>Resort Hotel</td>\n",
       "      <td>737</td>\n",
       "      <td>2015</td>\n",
       "      <td>7</td>\n",
       "      <td>27</td>\n",
       "      <td>1</td>\n",
       "      <td>0</td>\n",
       "      <td>0</td>\n",
       "      <td>2</td>\n",
       "      <td>...</td>\n",
       "      <td>C</td>\n",
       "      <td>4</td>\n",
       "      <td>No Deposit</td>\n",
       "      <td>0.0</td>\n",
       "      <td>0.0</td>\n",
       "      <td>0</td>\n",
       "      <td>Transient</td>\n",
       "      <td>0.0</td>\n",
       "      <td>0</td>\n",
       "      <td>0</td>\n",
       "    </tr>\n",
       "    <tr>\n",
       "      <th>2</th>\n",
       "      <td>0</td>\n",
       "      <td>Resort Hotel</td>\n",
       "      <td>7</td>\n",
       "      <td>2015</td>\n",
       "      <td>7</td>\n",
       "      <td>27</td>\n",
       "      <td>1</td>\n",
       "      <td>0</td>\n",
       "      <td>1</td>\n",
       "      <td>1</td>\n",
       "      <td>...</td>\n",
       "      <td>C</td>\n",
       "      <td>0</td>\n",
       "      <td>No Deposit</td>\n",
       "      <td>0.0</td>\n",
       "      <td>0.0</td>\n",
       "      <td>0</td>\n",
       "      <td>Transient</td>\n",
       "      <td>75.0</td>\n",
       "      <td>0</td>\n",
       "      <td>0</td>\n",
       "    </tr>\n",
       "  </tbody>\n",
       "</table>\n",
       "<p>3 rows × 30 columns</p>\n",
       "</div>"
      ],
      "text/plain": [
       "   is_canceled         hotel  lead_time  arrival_date_year  \\\n",
       "0            0  Resort Hotel        342               2015   \n",
       "1            0  Resort Hotel        737               2015   \n",
       "2            0  Resort Hotel          7               2015   \n",
       "\n",
       "   arrival_date_month  arrival_date_week_number  arrival_date_day_of_month  \\\n",
       "0                   7                        27                          1   \n",
       "1                   7                        27                          1   \n",
       "2                   7                        27                          1   \n",
       "\n",
       "   stays_in_weekend_nights  stays_in_week_nights  adults  ...  \\\n",
       "0                        0                     0       2  ...   \n",
       "1                        0                     0       2  ...   \n",
       "2                        0                     1       1  ...   \n",
       "\n",
       "   assigned_room_type  booking_changes deposit_type agent company  \\\n",
       "0                   C                3   No Deposit   0.0     0.0   \n",
       "1                   C                4   No Deposit   0.0     0.0   \n",
       "2                   C                0   No Deposit   0.0     0.0   \n",
       "\n",
       "  days_in_waiting_list  customer_type   adr  required_car_parking_spaces  \\\n",
       "0                    0      Transient   0.0                            0   \n",
       "1                    0      Transient   0.0                            0   \n",
       "2                    0      Transient  75.0                            0   \n",
       "\n",
       "  total_of_special_requests  \n",
       "0                         0  \n",
       "1                         0  \n",
       "2                         0  \n",
       "\n",
       "[3 rows x 30 columns]"
      ]
     },
     "execution_count": 11,
     "metadata": {},
     "output_type": "execute_result"
    }
   ],
   "source": [
    "import calendar\n",
    "month_num_list = [1, 2, 3, 4, 5, 6, 7, 8, 9, 10, 11, 12]\n",
    "month_name_list = [calendar.month_name[i] for i in month_num_list]\n",
    "d = d.replace(month_name_list, month_num_list)\n",
    "d.head(3)"
   ]
  },
  {
   "cell_type": "code",
   "execution_count": 12,
   "metadata": {},
   "outputs": [
    {
     "data": {
      "text/plain": [
       "lead_time                         0.291995\n",
       "total_of_special_requests         0.235635\n",
       "required_car_parking_spaces       0.194784\n",
       "booking_changes                   0.144662\n",
       "previous_cancellations            0.109922\n",
       "is_repeated_guest                 0.085181\n",
       "company                           0.082308\n",
       "adults                            0.058383\n",
       "previous_bookings_not_canceled    0.055494\n",
       "days_in_waiting_list              0.054015\n",
       "agent                             0.046548\n",
       "adr                               0.046200\n",
       "babies                            0.032521\n",
       "stays_in_week_nights              0.024111\n",
       "arrival_date_year                 0.016402\n",
       "arrival_date_month                0.010306\n",
       "arrival_date_week_number          0.007466\n",
       "arrival_date_day_of_month         0.006135\n",
       "children                          0.004766\n",
       "stays_in_weekend_nights           0.002624\n",
       "Name: is_canceled, dtype: float64"
      ]
     },
     "execution_count": 12,
     "metadata": {},
     "output_type": "execute_result"
    }
   ],
   "source": [
    "cancel_corr = d.corr()[\"is_canceled\"]\n",
    "cancel_corr.abs().sort_values(ascending=False)[1:]"
   ]
  },
  {
   "cell_type": "code",
   "execution_count": 13,
   "metadata": {},
   "outputs": [],
   "source": [
    "num_features = [\"lead_time\",\"arrival_date_week_number\",\"arrival_date_day_of_month\",\n",
    "                \"stays_in_weekend_nights\",\"stays_in_week_nights\",\"adults\",\"children\",\n",
    "                \"babies\",\"is_repeated_guest\", \"previous_cancellations\",\n",
    "                \"previous_bookings_not_canceled\",\"agent\",\"company\",\n",
    "                \"required_car_parking_spaces\", \"total_of_special_requests\", \"adr\"]\n",
    "\n",
    "cat_features = [\"hotel\",\"meal\",\"market_segment\",\"country\",\n",
    "                \"distribution_channel\",\"reserved_room_type\",\"assigned_room_type\",\"deposit_type\",\"customer_type\"]"
   ]
  },
  {
   "cell_type": "code",
   "execution_count": 14,
   "metadata": {},
   "outputs": [],
   "source": [
    "data = d.drop(cat_features,axis=1)\n",
    "corr = data.corr()"
   ]
  },
  {
   "cell_type": "code",
   "execution_count": 16,
   "metadata": {},
   "outputs": [
    {
     "data": {
      "text/plain": [
       "<AxesSubplot:>"
      ]
     },
     "execution_count": 16,
     "metadata": {},
     "output_type": "execute_result"
    },
    {
     "data": {
      "image/png": "[encoded data removed]",
      "text/plain": [
       "<Figure size 640x400 with 2 Axes>"
      ]
     },
     "metadata": {
      "needs_background": "light"
     },
     "output_type": "display_data"
    }
   ],
   "source": [
    "sns.heatmap(corr,cmap = 'RdBu_r', fmt = '.2f')"
   ]
  },
  {
   "cell_type": "code",
   "execution_count": 17,
   "metadata": {},
   "outputs": [],
   "source": [
    "def cancel_by_group(d, feature_name):\n",
    "    name_list = d[feature_name].drop_duplicates().values\n",
    "    total = []\n",
    "    cancel = []\n",
    "    for name in name_list:\n",
    "        total.append(len(d[d[feature_name] == name]))\n",
    "        cancel.append(len(d[(d[feature_name] == name) & (d['is_canceled'] == 1)]))\n",
    "    cancel_rate = [round(a / b, 2) for a, b in zip(cancel, total)]\n",
    "    feature_cancel = pd.DataFrame({feature_name: name_list, 'total_booking': total, \n",
    "                               'cancel_rate': cancel_rate})\n",
    "    sort_value = feature_cancel.sort_values(by = ['total_booking'], ascending = False)\n",
    "    return sort_value"
   ]
  },
  {
   "cell_type": "code",
   "execution_count": 18,
   "metadata": {},
   "outputs": [
    {
     "data": {
      "text/plain": [
       "<AxesSubplot:xlabel='month', ylabel='cancel_rate'>"
      ]
     },
     "execution_count": 18,
     "metadata": {},
     "output_type": "execute_result"
    },
    {
     "data": {
      "image/png": "[encoded data removed]",
      "text/plain": [
       "<Figure size 640x400 with 1 Axes>"
      ]
     },
     "metadata": {
      "needs_background": "light"
     },
     "output_type": "display_data"
    }
   ],
   "source": [
    "resort_month = cancel_by_group(d[d['hotel'] == 'Resort Hotel'], 'arrival_date_month').sort_values(by = ['arrival_date_month'])\n",
    "city_month = cancel_by_group(d[d['hotel'] == 'City Hotel'], 'arrival_date_month').sort_values(by = ['arrival_date_month'])\n",
    "hotel_type = ['']\n",
    "resort_cancel = pd.DataFrame({'month': resort_month['arrival_date_month'], \n",
    "                      'cancel_rate': resort_month['cancel_rate'],\n",
    "                      'hotel_type': 'Resort hotel'})\n",
    "city_cancel = pd.DataFrame({'month': city_month['arrival_date_month'], \n",
    "                      'cancel_rate': city_month['cancel_rate'],\n",
    "                      'hotel_type': 'City hotel'})\n",
    "month_cancel = pd.concat([resort_cancel, city_cancel], ignore_index=True)\n",
    "sns.barplot(x = \"month\", y = \"cancel_rate\" , hue=\"hotel_type\", data=month_cancel)"
   ]
  },
  {
   "cell_type": "code",
   "execution_count": 19,
   "metadata": {},
   "outputs": [],
   "source": [
    "cg_features = [\"hotel\",\"meal\",\"market_segment\",\"country\",\n",
    "                \"distribution_channel\",\"reserved_room_type\",\"deposit_type\",\"customer_type\"]"
   ]
  },
  {
   "cell_type": "code",
   "execution_count": 20,
   "metadata": {},
   "outputs": [
    {
     "data": {
      "image/png": "[encoded data removed]",
      "text/plain": [
       "<Figure size 1280x1280 with 8 Axes>"
      ]
     },
     "metadata": {
      "needs_background": "light"
     },
     "output_type": "display_data"
    }
   ],
   "source": [
    "fig = plt.figure(figsize=(4*4, 4*4))\n",
    "for i in range(len(cg_features)):\n",
    "    ax = fig.add_subplot(4, 2, i+1)\n",
    "    sort_value = cancel_by_group(d, cg_features[i])\n",
    "    ax.bar(x=sort_value.iloc[:,0], height=sort_value.iloc[:,2])\n",
    "    plt.title(cg_features[i], fontsize=10)\n",
    "    plt.ylabel(\"Cancelation rate\", fontsize=8)"
   ]
  },
  {
   "cell_type": "code",
   "execution_count": 32,
   "metadata": {},
   "outputs": [
    {
     "data": {
      "text/html": [
       "<div>\n",
       "<style scoped>\n",
       "    .dataframe tbody tr th:only-of-type {\n",
       "        vertical-align: middle;\n",
       "    }\n",
       "\n",
       "    .dataframe tbody tr th {\n",
       "        vertical-align: top;\n",
       "    }\n",
       "\n",
       "    .dataframe thead th {\n",
       "        text-align: right;\n",
       "    }\n",
       "</style>\n",
       "<table border=\"1\" class=\"dataframe\">\n",
       "  <thead>\n",
       "    <tr style=\"text-align: right;\">\n",
       "      <th></th>\n",
       "      <th>market_segment</th>\n",
       "      <th>total_booking</th>\n",
       "      <th>cancel_rate</th>\n",
       "    </tr>\n",
       "  </thead>\n",
       "  <tbody>\n",
       "    <tr>\n",
       "      <th>2</th>\n",
       "      <td>Online TA</td>\n",
       "      <td>56402</td>\n",
       "      <td>0.37</td>\n",
       "    </tr>\n",
       "    <tr>\n",
       "      <th>3</th>\n",
       "      <td>Offline TA/TO</td>\n",
       "      <td>24160</td>\n",
       "      <td>0.34</td>\n",
       "    </tr>\n",
       "    <tr>\n",
       "      <th>5</th>\n",
       "      <td>Groups</td>\n",
       "      <td>19806</td>\n",
       "      <td>0.61</td>\n",
       "    </tr>\n",
       "    <tr>\n",
       "      <th>0</th>\n",
       "      <td>Direct</td>\n",
       "      <td>12447</td>\n",
       "      <td>0.15</td>\n",
       "    </tr>\n",
       "    <tr>\n",
       "      <th>1</th>\n",
       "      <td>Corporate</td>\n",
       "      <td>5111</td>\n",
       "      <td>0.19</td>\n",
       "    </tr>\n",
       "    <tr>\n",
       "      <th>4</th>\n",
       "      <td>Complementary</td>\n",
       "      <td>734</td>\n",
       "      <td>0.12</td>\n",
       "    </tr>\n",
       "    <tr>\n",
       "      <th>6</th>\n",
       "      <td>Aviation</td>\n",
       "      <td>237</td>\n",
       "      <td>0.22</td>\n",
       "    </tr>\n",
       "  </tbody>\n",
       "</table>\n",
       "</div>"
      ],
      "text/plain": [
       "  market_segment  total_booking  cancel_rate\n",
       "2      Online TA          56402         0.37\n",
       "3  Offline TA/TO          24160         0.34\n",
       "5         Groups          19806         0.61\n",
       "0         Direct          12447         0.15\n",
       "1      Corporate           5111         0.19\n",
       "4  Complementary            734         0.12\n",
       "6       Aviation            237         0.22"
      ]
     },
     "execution_count": 32,
     "metadata": {},
     "output_type": "execute_result"
    }
   ],
   "source": [
    "cancel_by_group(d, 'market_segment')"
   ]
  },
  {
   "cell_type": "code",
   "execution_count": 34,
   "metadata": {},
   "outputs": [],
   "source": [
    "# see cancel rate of countries with large number of total_booking\n",
    "country_cancel = cancel_by_group(d, 'country')"
   ]
  },
  {
   "cell_type": "code",
   "execution_count": 49,
   "metadata": {},
   "outputs": [
    {
     "data": {
      "text/plain": [
       "108188"
      ]
     },
     "execution_count": 49,
     "metadata": {},
     "output_type": "execute_result"
    }
   ],
   "source": [
    "sum(country_cancel[country_cancel['total_booking'] > 1000]['total_booking'])"
   ]
  },
  {
   "cell_type": "code",
   "execution_count": 50,
   "metadata": {},
   "outputs": [
    {
     "data": {
      "text/plain": [
       "15"
      ]
     },
     "execution_count": 50,
     "metadata": {},
     "output_type": "execute_result"
    }
   ],
   "source": [
    "len(country_cancel[country_cancel['total_booking'] > 1000])"
   ]
  },
  {
   "cell_type": "code",
   "execution_count": 53,
   "metadata": {},
   "outputs": [],
   "source": [
    "lt_c = cancel_by_group(d, 'lead_time').sort_values(by = ['lead_time'])"
   ]
  },
  {
   "cell_type": "code",
   "execution_count": 69,
   "metadata": {},
   "outputs": [
    {
     "data": {
      "text/html": [
       "<div>\n",
       "<style scoped>\n",
       "    .dataframe tbody tr th:only-of-type {\n",
       "        vertical-align: middle;\n",
       "    }\n",
       "\n",
       "    .dataframe tbody tr th {\n",
       "        vertical-align: top;\n",
       "    }\n",
       "\n",
       "    .dataframe thead th {\n",
       "        text-align: right;\n",
       "    }\n",
       "</style>\n",
       "<table border=\"1\" class=\"dataframe\">\n",
       "  <thead>\n",
       "    <tr style=\"text-align: right;\">\n",
       "      <th></th>\n",
       "      <th>lead_time</th>\n",
       "      <th>total_booking</th>\n",
       "      <th>cancel_rate</th>\n",
       "    </tr>\n",
       "  </thead>\n",
       "  <tbody>\n",
       "    <tr>\n",
       "      <th>5</th>\n",
       "      <td>0</td>\n",
       "      <td>6223</td>\n",
       "      <td>0.07</td>\n",
       "    </tr>\n",
       "    <tr>\n",
       "      <th>40</th>\n",
       "      <td>1</td>\n",
       "      <td>3393</td>\n",
       "      <td>0.09</td>\n",
       "    </tr>\n",
       "    <tr>\n",
       "      <th>49</th>\n",
       "      <td>2</td>\n",
       "      <td>2033</td>\n",
       "      <td>0.10</td>\n",
       "    </tr>\n",
       "    <tr>\n",
       "      <th>39</th>\n",
       "      <td>3</td>\n",
       "      <td>1802</td>\n",
       "      <td>0.10</td>\n",
       "    </tr>\n",
       "    <tr>\n",
       "      <th>58</th>\n",
       "      <td>4</td>\n",
       "      <td>1696</td>\n",
       "      <td>0.10</td>\n",
       "    </tr>\n",
       "    <tr>\n",
       "      <th>...</th>\n",
       "      <td>...</td>\n",
       "      <td>...</td>\n",
       "      <td>...</td>\n",
       "    </tr>\n",
       "    <tr>\n",
       "      <th>452</th>\n",
       "      <td>622</td>\n",
       "      <td>17</td>\n",
       "      <td>1.00</td>\n",
       "    </tr>\n",
       "    <tr>\n",
       "      <th>432</th>\n",
       "      <td>626</td>\n",
       "      <td>30</td>\n",
       "      <td>1.00</td>\n",
       "    </tr>\n",
       "    <tr>\n",
       "      <th>453</th>\n",
       "      <td>629</td>\n",
       "      <td>17</td>\n",
       "      <td>1.00</td>\n",
       "    </tr>\n",
       "    <tr>\n",
       "      <th>251</th>\n",
       "      <td>709</td>\n",
       "      <td>1</td>\n",
       "      <td>0.00</td>\n",
       "    </tr>\n",
       "    <tr>\n",
       "      <th>1</th>\n",
       "      <td>737</td>\n",
       "      <td>1</td>\n",
       "      <td>0.00</td>\n",
       "    </tr>\n",
       "  </tbody>\n",
       "</table>\n",
       "<p>479 rows × 3 columns</p>\n",
       "</div>"
      ],
      "text/plain": [
       "     lead_time  total_booking  cancel_rate\n",
       "5            0           6223         0.07\n",
       "40           1           3393         0.09\n",
       "49           2           2033         0.10\n",
       "39           3           1802         0.10\n",
       "58           4           1696         0.10\n",
       "..         ...            ...          ...\n",
       "452        622             17         1.00\n",
       "432        626             30         1.00\n",
       "453        629             17         1.00\n",
       "251        709              1         0.00\n",
       "1          737              1         0.00\n",
       "\n",
       "[479 rows x 3 columns]"
      ]
     },
     "execution_count": 69,
     "metadata": {},
     "output_type": "execute_result"
    }
   ],
   "source": [
    "lt_c"
   ]
  },
  {
   "cell_type": "code",
   "execution_count": 84,
   "metadata": {},
   "outputs": [
    {
     "data": {
      "text/plain": [
       "<matplotlib.collections.PathCollection at 0x23668e97430>"
      ]
     },
     "execution_count": 84,
     "metadata": {},
     "output_type": "execute_result"
    },
    {
     "data": {
      "image/png": "[encoded data removed]",
      "text/plain": [
       "<Figure size 640x400 with 1 Axes>"
      ]
     },
     "metadata": {
      "needs_background": "light"
     },
     "output_type": "display_data"
    }
   ],
   "source": [
    "lt_c1 = lt_c[lt_c['total_booking']>100]\n",
    "plt.scatter(lt_c1['lead_time'], lt_c1['cancel_rate'])"
   ]
  },
  {
   "cell_type": "code",
   "execution_count": 22,
   "metadata": {},
   "outputs": [
    {
     "data": {
      "text/html": [
       "<div>\n",
       "<style scoped>\n",
       "    .dataframe tbody tr th:only-of-type {\n",
       "        vertical-align: middle;\n",
       "    }\n",
       "\n",
       "    .dataframe tbody tr th {\n",
       "        vertical-align: top;\n",
       "    }\n",
       "\n",
       "    .dataframe thead th {\n",
       "        text-align: right;\n",
       "    }\n",
       "</style>\n",
       "<table border=\"1\" class=\"dataframe\">\n",
       "  <thead>\n",
       "    <tr style=\"text-align: right;\">\n",
       "      <th></th>\n",
       "      <th>deposit_type</th>\n",
       "      <th>total_booking</th>\n",
       "      <th>cancel_rate</th>\n",
       "    </tr>\n",
       "  </thead>\n",
       "  <tbody>\n",
       "    <tr>\n",
       "      <th>0</th>\n",
       "      <td>No Deposit</td>\n",
       "      <td>104162</td>\n",
       "      <td>0.28</td>\n",
       "    </tr>\n",
       "    <tr>\n",
       "      <th>2</th>\n",
       "      <td>Non Refund</td>\n",
       "      <td>14573</td>\n",
       "      <td>0.99</td>\n",
       "    </tr>\n",
       "    <tr>\n",
       "      <th>1</th>\n",
       "      <td>Refundable</td>\n",
       "      <td>162</td>\n",
       "      <td>0.22</td>\n",
       "    </tr>\n",
       "  </tbody>\n",
       "</table>\n",
       "</div>"
      ],
      "text/plain": [
       "  deposit_type  total_booking  cancel_rate\n",
       "0   No Deposit         104162         0.28\n",
       "2   Non Refund          14573         0.99\n",
       "1   Refundable            162         0.22"
      ]
     },
     "execution_count": 22,
     "metadata": {},
     "output_type": "execute_result"
    }
   ],
   "source": [
    "cancel_by_group(d, \"deposit_type\")\n",
    "# detailed analysis"
   ]
  },
  {
   "cell_type": "code",
   "execution_count": 23,
   "metadata": {},
   "outputs": [
    {
     "data": {
      "text/html": [
       "<div>\n",
       "<style scoped>\n",
       "    .dataframe tbody tr th:only-of-type {\n",
       "        vertical-align: middle;\n",
       "    }\n",
       "\n",
       "    .dataframe tbody tr th {\n",
       "        vertical-align: top;\n",
       "    }\n",
       "\n",
       "    .dataframe thead th {\n",
       "        text-align: right;\n",
       "    }\n",
       "</style>\n",
       "<table border=\"1\" class=\"dataframe\">\n",
       "  <thead>\n",
       "    <tr style=\"text-align: right;\">\n",
       "      <th></th>\n",
       "      <th>is_canceled</th>\n",
       "      <th>lead_time</th>\n",
       "      <th>arrival_date_year</th>\n",
       "      <th>arrival_date_month</th>\n",
       "      <th>arrival_date_week_number</th>\n",
       "      <th>arrival_date_day_of_month</th>\n",
       "      <th>stays_in_weekend_nights</th>\n",
       "      <th>stays_in_week_nights</th>\n",
       "      <th>adults</th>\n",
       "      <th>children</th>\n",
       "      <th>...</th>\n",
       "      <th>is_repeated_guest</th>\n",
       "      <th>previous_cancellations</th>\n",
       "      <th>previous_bookings_not_canceled</th>\n",
       "      <th>booking_changes</th>\n",
       "      <th>agent</th>\n",
       "      <th>company</th>\n",
       "      <th>days_in_waiting_list</th>\n",
       "      <th>adr</th>\n",
       "      <th>required_car_parking_spaces</th>\n",
       "      <th>total_of_special_requests</th>\n",
       "    </tr>\n",
       "    <tr>\n",
       "      <th>deposit_type</th>\n",
       "      <th></th>\n",
       "      <th></th>\n",
       "      <th></th>\n",
       "      <th></th>\n",
       "      <th></th>\n",
       "      <th></th>\n",
       "      <th></th>\n",
       "      <th></th>\n",
       "      <th></th>\n",
       "      <th></th>\n",
       "      <th></th>\n",
       "      <th></th>\n",
       "      <th></th>\n",
       "      <th></th>\n",
       "      <th></th>\n",
       "      <th></th>\n",
       "      <th></th>\n",
       "      <th></th>\n",
       "      <th></th>\n",
       "      <th></th>\n",
       "      <th></th>\n",
       "    </tr>\n",
       "  </thead>\n",
       "  <tbody>\n",
       "    <tr>\n",
       "      <th>No Deposit</th>\n",
       "      <td>0.284528</td>\n",
       "      <td>89.040898</td>\n",
       "      <td>2016.175208</td>\n",
       "      <td>6.545928</td>\n",
       "      <td>27.138736</td>\n",
       "      <td>15.817736</td>\n",
       "      <td>0.971708</td>\n",
       "      <td>2.559225</td>\n",
       "      <td>1.864912</td>\n",
       "      <td>0.118805</td>\n",
       "      <td>...</td>\n",
       "      <td>0.035886</td>\n",
       "      <td>0.041848</td>\n",
       "      <td>0.148739</td>\n",
       "      <td>0.249803</td>\n",
       "      <td>78.757042</td>\n",
       "      <td>10.978677</td>\n",
       "      <td>1.526334</td>\n",
       "      <td>103.724273</td>\n",
       "      <td>0.070429</td>\n",
       "      <td>0.652071</td>\n",
       "    </tr>\n",
       "    <tr>\n",
       "      <th>Non Refund</th>\n",
       "      <td>0.993618</td>\n",
       "      <td>212.928018</td>\n",
       "      <td>2016.032457</td>\n",
       "      <td>6.621698</td>\n",
       "      <td>27.434639</td>\n",
       "      <td>15.596034</td>\n",
       "      <td>0.622315</td>\n",
       "      <td>2.090235</td>\n",
       "      <td>1.811226</td>\n",
       "      <td>0.000618</td>\n",
       "      <td>...</td>\n",
       "      <td>0.004392</td>\n",
       "      <td>0.411858</td>\n",
       "      <td>0.010636</td>\n",
       "      <td>0.012489</td>\n",
       "      <td>47.514101</td>\n",
       "      <td>6.221780</td>\n",
       "      <td>7.999931</td>\n",
       "      <td>89.988000</td>\n",
       "      <td>0.000069</td>\n",
       "      <td>0.001784</td>\n",
       "    </tr>\n",
       "    <tr>\n",
       "      <th>Refundable</th>\n",
       "      <td>0.222222</td>\n",
       "      <td>152.098765</td>\n",
       "      <td>2016.141975</td>\n",
       "      <td>4.833333</td>\n",
       "      <td>20.932099</td>\n",
       "      <td>23.456790</td>\n",
       "      <td>0.975309</td>\n",
       "      <td>2.851852</td>\n",
       "      <td>1.907407</td>\n",
       "      <td>0.030864</td>\n",
       "      <td>...</td>\n",
       "      <td>0.024691</td>\n",
       "      <td>0.000000</td>\n",
       "      <td>0.018519</td>\n",
       "      <td>0.592593</td>\n",
       "      <td>56.185185</td>\n",
       "      <td>133.666667</td>\n",
       "      <td>9.586420</td>\n",
       "      <td>76.209753</td>\n",
       "      <td>0.123457</td>\n",
       "      <td>0.141975</td>\n",
       "    </tr>\n",
       "  </tbody>\n",
       "</table>\n",
       "<p>3 rows × 21 columns</p>\n",
       "</div>"
      ],
      "text/plain": [
       "              is_canceled   lead_time  arrival_date_year  arrival_date_month  \\\n",
       "deposit_type                                                                   \n",
       "No Deposit       0.284528   89.040898        2016.175208            6.545928   \n",
       "Non Refund       0.993618  212.928018        2016.032457            6.621698   \n",
       "Refundable       0.222222  152.098765        2016.141975            4.833333   \n",
       "\n",
       "              arrival_date_week_number  arrival_date_day_of_month  \\\n",
       "deposit_type                                                        \n",
       "No Deposit                   27.138736                  15.817736   \n",
       "Non Refund                   27.434639                  15.596034   \n",
       "Refundable                   20.932099                  23.456790   \n",
       "\n",
       "              stays_in_weekend_nights  stays_in_week_nights    adults  \\\n",
       "deposit_type                                                            \n",
       "No Deposit                   0.971708              2.559225  1.864912   \n",
       "Non Refund                   0.622315              2.090235  1.811226   \n",
       "Refundable                   0.975309              2.851852  1.907407   \n",
       "\n",
       "              children  ...  is_repeated_guest  previous_cancellations  \\\n",
       "deposit_type            ...                                              \n",
       "No Deposit    0.118805  ...           0.035886                0.041848   \n",
       "Non Refund    0.000618  ...           0.004392                0.411858   \n",
       "Refundable    0.030864  ...           0.024691                0.000000   \n",
       "\n",
       "              previous_bookings_not_canceled  booking_changes      agent  \\\n",
       "deposit_type                                                               \n",
       "No Deposit                          0.148739         0.249803  78.757042   \n",
       "Non Refund                          0.010636         0.012489  47.514101   \n",
       "Refundable                          0.018519         0.592593  56.185185   \n",
       "\n",
       "                 company  days_in_waiting_list         adr  \\\n",
       "deposit_type                                                 \n",
       "No Deposit     10.978677              1.526334  103.724273   \n",
       "Non Refund      6.221780              7.999931   89.988000   \n",
       "Refundable    133.666667              9.586420   76.209753   \n",
       "\n",
       "              required_car_parking_spaces  total_of_special_requests  \n",
       "deposit_type                                                          \n",
       "No Deposit                       0.070429                   0.652071  \n",
       "Non Refund                       0.000069                   0.001784  \n",
       "Refundable                       0.123457                   0.141975  \n",
       "\n",
       "[3 rows x 21 columns]"
      ]
     },
     "execution_count": 23,
     "metadata": {},
     "output_type": "execute_result"
    }
   ],
   "source": [
    "data_deposit = d.groupby(\"deposit_type\").mean()\n",
    "data_deposit"
   ]
  },
  {
   "cell_type": "code",
   "execution_count": 24,
   "metadata": {},
   "outputs": [
    {
     "data": {
      "text/html": [
       "<div>\n",
       "<style scoped>\n",
       "    .dataframe tbody tr th:only-of-type {\n",
       "        vertical-align: middle;\n",
       "    }\n",
       "\n",
       "    .dataframe tbody tr th {\n",
       "        vertical-align: top;\n",
       "    }\n",
       "\n",
       "    .dataframe thead th {\n",
       "        text-align: right;\n",
       "    }\n",
       "</style>\n",
       "<table border=\"1\" class=\"dataframe\">\n",
       "  <thead>\n",
       "    <tr style=\"text-align: right;\">\n",
       "      <th></th>\n",
       "      <th>is_canceled</th>\n",
       "      <th>lead_time</th>\n",
       "      <th>arrival_date_year</th>\n",
       "      <th>arrival_date_month</th>\n",
       "      <th>arrival_date_week_number</th>\n",
       "      <th>arrival_date_day_of_month</th>\n",
       "      <th>stays_in_weekend_nights</th>\n",
       "      <th>stays_in_week_nights</th>\n",
       "      <th>adults</th>\n",
       "      <th>children</th>\n",
       "      <th>...</th>\n",
       "      <th>is_repeated_guest</th>\n",
       "      <th>previous_cancellations</th>\n",
       "      <th>previous_bookings_not_canceled</th>\n",
       "      <th>booking_changes</th>\n",
       "      <th>agent</th>\n",
       "      <th>company</th>\n",
       "      <th>days_in_waiting_list</th>\n",
       "      <th>adr</th>\n",
       "      <th>required_car_parking_spaces</th>\n",
       "      <th>total_of_special_requests</th>\n",
       "    </tr>\n",
       "    <tr>\n",
       "      <th>hotel</th>\n",
       "      <th></th>\n",
       "      <th></th>\n",
       "      <th></th>\n",
       "      <th></th>\n",
       "      <th></th>\n",
       "      <th></th>\n",
       "      <th></th>\n",
       "      <th></th>\n",
       "      <th></th>\n",
       "      <th></th>\n",
       "      <th></th>\n",
       "      <th></th>\n",
       "      <th></th>\n",
       "      <th></th>\n",
       "      <th></th>\n",
       "      <th></th>\n",
       "      <th></th>\n",
       "      <th></th>\n",
       "      <th></th>\n",
       "      <th></th>\n",
       "      <th></th>\n",
       "    </tr>\n",
       "  </thead>\n",
       "  <tbody>\n",
       "    <tr>\n",
       "      <th>City Hotel</th>\n",
       "      <td>0.417089</td>\n",
       "      <td>109.740183</td>\n",
       "      <td>2016.174535</td>\n",
       "      <td>6.555547</td>\n",
       "      <td>27.173564</td>\n",
       "      <td>15.787824</td>\n",
       "      <td>0.795339</td>\n",
       "      <td>2.182896</td>\n",
       "      <td>1.851126</td>\n",
       "      <td>0.091397</td>\n",
       "      <td>...</td>\n",
       "      <td>0.025624</td>\n",
       "      <td>0.079771</td>\n",
       "      <td>0.132418</td>\n",
       "      <td>0.187435</td>\n",
       "      <td>25.265870</td>\n",
       "      <td>6.729654</td>\n",
       "      <td>3.227914</td>\n",
       "      <td>105.326470</td>\n",
       "      <td>0.024375</td>\n",
       "      <td>0.547035</td>\n",
       "    </tr>\n",
       "    <tr>\n",
       "      <th>Resort Hotel</th>\n",
       "      <td>0.279758</td>\n",
       "      <td>93.438616</td>\n",
       "      <td>2016.123879</td>\n",
       "      <td>6.547544</td>\n",
       "      <td>27.152494</td>\n",
       "      <td>15.827301</td>\n",
       "      <td>1.196363</td>\n",
       "      <td>3.141533</td>\n",
       "      <td>1.872939</td>\n",
       "      <td>0.129840</td>\n",
       "      <td>...</td>\n",
       "      <td>0.044804</td>\n",
       "      <td>0.101907</td>\n",
       "      <td>0.130067</td>\n",
       "      <td>0.288774</td>\n",
       "      <td>174.299331</td>\n",
       "      <td>18.239929</td>\n",
       "      <td>0.533956</td>\n",
       "      <td>95.347117</td>\n",
       "      <td>0.136987</td>\n",
       "      <td>0.621013</td>\n",
       "    </tr>\n",
       "  </tbody>\n",
       "</table>\n",
       "<p>2 rows × 21 columns</p>\n",
       "</div>"
      ],
      "text/plain": [
       "              is_canceled   lead_time  arrival_date_year  arrival_date_month  \\\n",
       "hotel                                                                          \n",
       "City Hotel       0.417089  109.740183        2016.174535            6.555547   \n",
       "Resort Hotel     0.279758   93.438616        2016.123879            6.547544   \n",
       "\n",
       "              arrival_date_week_number  arrival_date_day_of_month  \\\n",
       "hotel                                                               \n",
       "City Hotel                   27.173564                  15.787824   \n",
       "Resort Hotel                 27.152494                  15.827301   \n",
       "\n",
       "              stays_in_weekend_nights  stays_in_week_nights    adults  \\\n",
       "hotel                                                                   \n",
       "City Hotel                   0.795339              2.182896  1.851126   \n",
       "Resort Hotel                 1.196363              3.141533  1.872939   \n",
       "\n",
       "              children  ...  is_repeated_guest  previous_cancellations  \\\n",
       "hotel                   ...                                              \n",
       "City Hotel    0.091397  ...           0.025624                0.079771   \n",
       "Resort Hotel  0.129840  ...           0.044804                0.101907   \n",
       "\n",
       "              previous_bookings_not_canceled  booking_changes       agent  \\\n",
       "hotel                                                                       \n",
       "City Hotel                          0.132418         0.187435   25.265870   \n",
       "Resort Hotel                        0.130067         0.288774  174.299331   \n",
       "\n",
       "                company  days_in_waiting_list         adr  \\\n",
       "hotel                                                       \n",
       "City Hotel     6.729654              3.227914  105.326470   \n",
       "Resort Hotel  18.239929              0.533956   95.347117   \n",
       "\n",
       "              required_car_parking_spaces  total_of_special_requests  \n",
       "hotel                                                                 \n",
       "City Hotel                       0.024375                   0.547035  \n",
       "Resort Hotel                     0.136987                   0.621013  \n",
       "\n",
       "[2 rows x 21 columns]"
      ]
     },
     "execution_count": 24,
     "metadata": {},
     "output_type": "execute_result"
    }
   ],
   "source": [
    "data_hotel = d.groupby(\"hotel\").mean()\n",
    "data_hotel"
   ]
  },
  {
   "cell_type": "code",
   "execution_count": 25,
   "metadata": {},
   "outputs": [],
   "source": [
    "d = d.drop(['arrival_date_week_number', 'arrival_date_year'],axis=1)"
   ]
  },
  {
   "cell_type": "code",
   "execution_count": 26,
   "metadata": {},
   "outputs": [],
   "source": [
    "# \"assigned_room_type\" "
   ]
  },
  {
   "cell_type": "markdown",
   "metadata": {},
   "source": [
    "For the details about data set;\n",
    "\n",
    "- please check the Project Description pdf file and related article from the Learn page. "
   ]
  },
  {
   "cell_type": "markdown",
   "metadata": {},
   "source": [
    "## 1. Introduction\n",
    "\n",
    "*This section should include a brief introduction to the task and the data (assume this is a report you are delivering to a client).* \n",
    "\n",
    "- If you use any additional data sources, you should introduce them here and discuss why they were included.\n",
    "\n",
    "- Briefly outline the approaches being used and the conclusions that you are able to draw."
   ]
  },
  {
   "cell_type": "markdown",
   "metadata": {},
   "source": [
    "## 2. Exploratory Data Analysis and Feature Engineering"
   ]
  },
  {
   "cell_type": "markdown",
   "metadata": {},
   "source": [
    "*Include a detailed discussion of the data with a particular emphasis on the features of the data that are relevant for the subsequent modeling.* \n",
    "\n",
    "- Including visualizations of the data is strongly encouraged - all code and plots must also be described in the write up. \n",
    "- Think carefully about whether each plot needs to be included in your final draft - your report should include figures but they should be as focused and impactful as possible.\n",
    "\n",
    "*Additionally, this section should also implement and describe any preprocessing / feature engineering of the data.*\n",
    "\n",
    "- Specifically, this should be any code that you use to generate new columns in the data frame `d`. All of this processing is explicitly meant to occur before we split the data in to training and testing subsets. \n",
    "- Processing that will be performed as part of an sklearn pipeline can be mentioned here but should be implemented in the following section.*\n",
    "\n",
    "**All code and figures should be accompanied by text that provides an overview / context to what is being done or presented.**"
   ]
  },
  {
   "cell_type": "markdown",
   "metadata": {},
   "source": [
    "## Feature engineering"
   ]
  },
  {
   "cell_type": "markdown",
   "metadata": {},
   "source": [
    "## 3. Model Fitting and Tuning"
   ]
  },
  {
   "cell_type": "markdown",
   "metadata": {},
   "source": [
    "*In this section you should detail your choice of model and describe the process used to refine and fit that model.*\n",
    "\n",
    "- You are strongly encouraged to explore many different modeling methods (e.g. logistic regression, classification trees, SVC, etc.) but you should not include a detailed narrative of all of these attempts. \n",
    "- At most this section should mention the methods explored and why they were rejected - most of your effort should go into describing the model you are using and your process for tuning and validatin it.\n",
    "\n",
    "*For example if you considered a logistic regression model, a classification tree, and a SVC model and ultimately settled on the logistic regression approach then you should mention that other two approaches were tried but do not include any of the code or any in depth discussion of these models beyond why they were rejected. This section should then detail is the development of the logistic regression model in terms of features used, interactions considered, and any additional tuning and validation which ultimately led to your final model.* \n",
    "\n",
    "**This section should also include the full implementation of your final model, including all necessary validation. As with figures, any included code must also be addressed in the text of the document.**"
   ]
  },
  {
   "cell_type": "markdown",
   "metadata": {},
   "source": [
    "## 4. Discussion & Conclusions\n"
   ]
  },
  {
   "cell_type": "markdown",
   "metadata": {},
   "source": [
    "*In this section you should provide a general overview of **your final model**, its **performance**, and **reliability**.* \n",
    "\n",
    "Your report must include the following:\n",
    "\n",
    "* Some discussion of the features that are most important for predicting a cancelation - we do not need discussion of specific coefficient values but direction of the effect should be clear (e.g. the earlier a booking is made the more likely it is to be canceled).\n",
    "\n",
    "* A validated assessment of your model's performance, but this must be specifically discussed in the context of bookings and running a hotel. \n",
    "\n",
    "* It is not sufficient to report summary statistics like the accuracy or AUC - you must address the perfomance in terms of potential gains and losses for the hotel (e.g. think about what happens if your model predicts a cancelation that does not actually occur and a room ends up being double booked or vice versa). \n",
    "\n",
    "* Explain why you think your particular model would or would not be economically viable."
   ]
  },
  {
   "cell_type": "markdown",
   "metadata": {},
   "source": [
    "## 5. References\n",
    "\n",
    "*In this section, you should present a list of external sources (except the course materials) that you used during the project, if any*\n",
    "\n",
    "- Additional data sources can be cited here, in addition to related python documentations, any other webpage sources that you benefited from"
   ]
  }
 ],
 "metadata": {
  "kernelspec": {
   "display_name": "Python 3 (ipykernel)",
   "language": "python",
   "name": "python3"
  },
  "language_info": {
   "codemirror_mode": {
    "name": "ipython",
    "version": 3
   },
   "file_extension": ".py",
   "mimetype": "text/x-python",
   "name": "python",
   "nbconvert_exporter": "python",
   "pygments_lexer": "ipython3",
   "version": "3.9.7"
  }
 },
 "nbformat": 4,
 "nbformat_minor": 4
}
