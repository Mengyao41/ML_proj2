{
 "cells": [
  {
   "cell_type": "markdown",
   "metadata": {},
   "source": [
    "# Machine Learning in Python - Group Project 2\n",
    "\n",
    "\n",
    "Contributors:\n",
    "* Thomas Lanning\n",
    "* Alexander Bohane\n",
    "* Mengyao Zhang\n",
    "* Shangyun Sun"
   ]
  },
  {
   "cell_type": "markdown",
   "metadata": {},
   "source": [
    "## General Setup"
   ]
  },
  {
   "cell_type": "code",
   "execution_count": 1,
   "metadata": {},
   "outputs": [],
   "source": [
    "# Add any additional libraries or submodules below\n",
    "\n",
    "# Display plots inline\n",
    "%matplotlib inline\n",
    "\n",
    "# Data libraries\n",
    "import pandas as pd\n",
    "import numpy as np\n",
    "import calendar\n",
    "\n",
    "# Plotting libraries\n",
    "import matplotlib.pyplot as plt\n",
    "import seaborn as sns\n",
    "\n",
    "# sklearn modules\n",
    "import sklearn\n",
    "from sklearn.preprocessing import OneHotEncoder\n",
    "from sklearn.compose import ColumnTransformer"
   ]
  },
  {
   "cell_type": "code",
   "execution_count": 2,
   "metadata": {},
   "outputs": [],
   "source": [
    "# Plotting defaults\n",
    "plt.rcParams['figure.figsize'] = (8,5)\n",
    "plt.rcParams['figure.dpi'] = 80"
   ]
  },
  {
   "cell_type": "code",
   "execution_count": 3,
   "metadata": {},
   "outputs": [],
   "source": [
    "# Load data\n",
    "d = pd.read_csv(\"hotel.csv\")"
   ]
  },
  {
   "cell_type": "markdown",
   "metadata": {},
   "source": [
    "For the details about data set;\n",
    "\n",
    "- please check the Project Description pdf file and related article from the Learn page. "
   ]
  },
  {
   "cell_type": "markdown",
   "metadata": {},
   "source": [
    "## 1. Introduction\n",
    "\n",
    "*This section should include a brief introduction to the task and the data (assume this is a report you are delivering to a client).* \n",
    "\n",
    "- If you use any additional data sources, you should introduce them here and discuss why they were included.\n",
    "\n",
    "- Briefly outline the approaches being used and the conclusions that you are able to draw."
   ]
  },
  {
   "cell_type": "markdown",
   "metadata": {},
   "source": [
    "## 2. Exploratory Data Analysis and Feature Engineering"
   ]
  },
  {
   "cell_type": "markdown",
   "metadata": {},
   "source": [
    "*Include a detailed discussion of the data with a particular emphasis on the features of the data that are relevant for the subsequent modeling.* \n",
    "\n",
    "- Including visualizations of the data is strongly encouraged - all code and plots must also be described in the write up. \n",
    "- Think carefully about whether each plot needs to be included in your final draft - your report should include figures but they should be as focused and impactful as possible.\n",
    "\n",
    "*Additionally, this section should also implement and describe any preprocessing / feature engineering of the data.*\n",
    "\n",
    "- Specifically, this should be any code that you use to generate new columns in the data frame `d`. All of this processing is explicitly meant to occur before we split the data in to training and testing subsets. \n",
    "- Processing that will be performed as part of an sklearn pipeline can be mentioned here but should be implemented in the following section.*\n",
    "\n",
    "**All code and figures should be accompanied by text that provides an overview / context to what is being done or presented.**"
   ]
  },
  {
   "cell_type": "markdown",
   "metadata": {},
   "source": [
    "### 2.1 Exploratory Data Analysis"
   ]
  },
  {
   "cell_type": "markdown",
   "metadata": {},
   "source": [
    "First we will explore the given dataset and clean the abnormal data."
   ]
  },
  {
   "cell_type": "markdown",
   "metadata": {},
   "source": [
    "#### 2.1.1 Data Overview"
   ]
  },
  {
   "cell_type": "markdown",
   "metadata": {},
   "source": [
    "The information of the given data is shown as follows. "
   ]
  },
  {
   "cell_type": "code",
   "execution_count": 4,
   "metadata": {},
   "outputs": [
    {
     "name": "stdout",
     "output_type": "stream",
     "text": [
      "<class 'pandas.core.frame.DataFrame'>\n",
      "RangeIndex: 119390 entries, 0 to 119389\n",
      "Data columns (total 30 columns):\n",
      " #   Column                          Non-Null Count   Dtype  \n",
      "---  ------                          --------------   -----  \n",
      " 0   is_canceled                     119390 non-null  int64  \n",
      " 1   hotel                           119390 non-null  object \n",
      " 2   lead_time                       119390 non-null  int64  \n",
      " 3   arrival_date_year               119390 non-null  int64  \n",
      " 4   arrival_date_month              119390 non-null  object \n",
      " 5   arrival_date_week_number        119390 non-null  int64  \n",
      " 6   arrival_date_day_of_month       119390 non-null  int64  \n",
      " 7   stays_in_weekend_nights         119390 non-null  int64  \n",
      " 8   stays_in_week_nights            119390 non-null  int64  \n",
      " 9   adults                          119390 non-null  int64  \n",
      " 10  children                        119386 non-null  float64\n",
      " 11  babies                          119390 non-null  int64  \n",
      " 12  meal                            119390 non-null  object \n",
      " 13  country                         118902 non-null  object \n",
      " 14  market_segment                  119390 non-null  object \n",
      " 15  distribution_channel            119390 non-null  object \n",
      " 16  is_repeated_guest               119390 non-null  int64  \n",
      " 17  previous_cancellations          119390 non-null  int64  \n",
      " 18  previous_bookings_not_canceled  119390 non-null  int64  \n",
      " 19  reserved_room_type              119390 non-null  object \n",
      " 20  assigned_room_type              119390 non-null  object \n",
      " 21  booking_changes                 119390 non-null  int64  \n",
      " 22  deposit_type                    119390 non-null  object \n",
      " 23  agent                           103050 non-null  float64\n",
      " 24  company                         6797 non-null    float64\n",
      " 25  days_in_waiting_list            119390 non-null  int64  \n",
      " 26  customer_type                   119390 non-null  object \n",
      " 27  adr                             119390 non-null  float64\n",
      " 28  required_car_parking_spaces     119390 non-null  int64  \n",
      " 29  total_of_special_requests       119390 non-null  int64  \n",
      "dtypes: float64(4), int64(16), object(10)\n",
      "memory usage: 27.3+ MB\n"
     ]
    }
   ],
   "source": [
    "d.info()"
   ]
  },
  {
   "cell_type": "markdown",
   "metadata": {},
   "source": [
    "We can see that there are 119390 bookings with 30 features. \n",
    "\n",
    "Besides, four features `children`, `country`, `agent`, and `company` have 'NULL'. However, the 'NULL' in `agent` and `company` should not be consideres as a missing value. It is more likely to represent 'not applicable'. For example, a booking with 'NULL' `agent` means that this booking is not from a travel agent. So we regard 'NULL' in `agent` and `company` as a new category.\n",
    "\n",
    "It is worth noting that the data type of `agent` and `company` is float, but actually data recorded in `agent` and `company` are their IDs, which should be regarded as categorical variables.\n",
    "\n",
    "Then we see the descriptive statistics of our data."
   ]
  },
  {
   "cell_type": "code",
   "execution_count": 5,
   "metadata": {},
   "outputs": [
    {
     "data": {
      "text/html": [
       "<div>\n",
       "<style scoped>\n",
       "    .dataframe tbody tr th:only-of-type {\n",
       "        vertical-align: middle;\n",
       "    }\n",
       "\n",
       "    .dataframe tbody tr th {\n",
       "        vertical-align: top;\n",
       "    }\n",
       "\n",
       "    .dataframe thead th {\n",
       "        text-align: right;\n",
       "    }\n",
       "</style>\n",
       "<table border=\"1\" class=\"dataframe\">\n",
       "  <thead>\n",
       "    <tr style=\"text-align: right;\">\n",
       "      <th></th>\n",
       "      <th>count</th>\n",
       "      <th>mean</th>\n",
       "      <th>std</th>\n",
       "      <th>min</th>\n",
       "      <th>25%</th>\n",
       "      <th>50%</th>\n",
       "      <th>75%</th>\n",
       "      <th>max</th>\n",
       "    </tr>\n",
       "  </thead>\n",
       "  <tbody>\n",
       "    <tr>\n",
       "      <th>is_canceled</th>\n",
       "      <td>119390.0</td>\n",
       "      <td>0.37</td>\n",
       "      <td>0.48</td>\n",
       "      <td>0.00</td>\n",
       "      <td>0.00</td>\n",
       "      <td>0.00</td>\n",
       "      <td>1.0</td>\n",
       "      <td>1.0</td>\n",
       "    </tr>\n",
       "    <tr>\n",
       "      <th>lead_time</th>\n",
       "      <td>119390.0</td>\n",
       "      <td>104.01</td>\n",
       "      <td>106.86</td>\n",
       "      <td>0.00</td>\n",
       "      <td>18.00</td>\n",
       "      <td>69.00</td>\n",
       "      <td>160.0</td>\n",
       "      <td>737.0</td>\n",
       "    </tr>\n",
       "    <tr>\n",
       "      <th>arrival_date_year</th>\n",
       "      <td>119390.0</td>\n",
       "      <td>2016.16</td>\n",
       "      <td>0.71</td>\n",
       "      <td>2015.00</td>\n",
       "      <td>2016.00</td>\n",
       "      <td>2016.00</td>\n",
       "      <td>2017.0</td>\n",
       "      <td>2017.0</td>\n",
       "    </tr>\n",
       "    <tr>\n",
       "      <th>arrival_date_week_number</th>\n",
       "      <td>119390.0</td>\n",
       "      <td>27.17</td>\n",
       "      <td>13.61</td>\n",
       "      <td>1.00</td>\n",
       "      <td>16.00</td>\n",
       "      <td>28.00</td>\n",
       "      <td>38.0</td>\n",
       "      <td>53.0</td>\n",
       "    </tr>\n",
       "    <tr>\n",
       "      <th>arrival_date_day_of_month</th>\n",
       "      <td>119390.0</td>\n",
       "      <td>15.80</td>\n",
       "      <td>8.78</td>\n",
       "      <td>1.00</td>\n",
       "      <td>8.00</td>\n",
       "      <td>16.00</td>\n",
       "      <td>23.0</td>\n",
       "      <td>31.0</td>\n",
       "    </tr>\n",
       "    <tr>\n",
       "      <th>stays_in_weekend_nights</th>\n",
       "      <td>119390.0</td>\n",
       "      <td>0.93</td>\n",
       "      <td>1.00</td>\n",
       "      <td>0.00</td>\n",
       "      <td>0.00</td>\n",
       "      <td>1.00</td>\n",
       "      <td>2.0</td>\n",
       "      <td>19.0</td>\n",
       "    </tr>\n",
       "    <tr>\n",
       "      <th>stays_in_week_nights</th>\n",
       "      <td>119390.0</td>\n",
       "      <td>2.50</td>\n",
       "      <td>1.91</td>\n",
       "      <td>0.00</td>\n",
       "      <td>1.00</td>\n",
       "      <td>2.00</td>\n",
       "      <td>3.0</td>\n",
       "      <td>50.0</td>\n",
       "    </tr>\n",
       "    <tr>\n",
       "      <th>adults</th>\n",
       "      <td>119390.0</td>\n",
       "      <td>1.86</td>\n",
       "      <td>0.58</td>\n",
       "      <td>0.00</td>\n",
       "      <td>2.00</td>\n",
       "      <td>2.00</td>\n",
       "      <td>2.0</td>\n",
       "      <td>55.0</td>\n",
       "    </tr>\n",
       "    <tr>\n",
       "      <th>children</th>\n",
       "      <td>119386.0</td>\n",
       "      <td>0.10</td>\n",
       "      <td>0.40</td>\n",
       "      <td>0.00</td>\n",
       "      <td>0.00</td>\n",
       "      <td>0.00</td>\n",
       "      <td>0.0</td>\n",
       "      <td>10.0</td>\n",
       "    </tr>\n",
       "    <tr>\n",
       "      <th>babies</th>\n",
       "      <td>119390.0</td>\n",
       "      <td>0.01</td>\n",
       "      <td>0.10</td>\n",
       "      <td>0.00</td>\n",
       "      <td>0.00</td>\n",
       "      <td>0.00</td>\n",
       "      <td>0.0</td>\n",
       "      <td>10.0</td>\n",
       "    </tr>\n",
       "    <tr>\n",
       "      <th>is_repeated_guest</th>\n",
       "      <td>119390.0</td>\n",
       "      <td>0.03</td>\n",
       "      <td>0.18</td>\n",
       "      <td>0.00</td>\n",
       "      <td>0.00</td>\n",
       "      <td>0.00</td>\n",
       "      <td>0.0</td>\n",
       "      <td>1.0</td>\n",
       "    </tr>\n",
       "    <tr>\n",
       "      <th>previous_cancellations</th>\n",
       "      <td>119390.0</td>\n",
       "      <td>0.09</td>\n",
       "      <td>0.84</td>\n",
       "      <td>0.00</td>\n",
       "      <td>0.00</td>\n",
       "      <td>0.00</td>\n",
       "      <td>0.0</td>\n",
       "      <td>26.0</td>\n",
       "    </tr>\n",
       "    <tr>\n",
       "      <th>previous_bookings_not_canceled</th>\n",
       "      <td>119390.0</td>\n",
       "      <td>0.14</td>\n",
       "      <td>1.50</td>\n",
       "      <td>0.00</td>\n",
       "      <td>0.00</td>\n",
       "      <td>0.00</td>\n",
       "      <td>0.0</td>\n",
       "      <td>72.0</td>\n",
       "    </tr>\n",
       "    <tr>\n",
       "      <th>booking_changes</th>\n",
       "      <td>119390.0</td>\n",
       "      <td>0.22</td>\n",
       "      <td>0.65</td>\n",
       "      <td>0.00</td>\n",
       "      <td>0.00</td>\n",
       "      <td>0.00</td>\n",
       "      <td>0.0</td>\n",
       "      <td>21.0</td>\n",
       "    </tr>\n",
       "    <tr>\n",
       "      <th>agent</th>\n",
       "      <td>103050.0</td>\n",
       "      <td>86.69</td>\n",
       "      <td>110.77</td>\n",
       "      <td>1.00</td>\n",
       "      <td>9.00</td>\n",
       "      <td>14.00</td>\n",
       "      <td>229.0</td>\n",
       "      <td>535.0</td>\n",
       "    </tr>\n",
       "    <tr>\n",
       "      <th>company</th>\n",
       "      <td>6797.0</td>\n",
       "      <td>189.27</td>\n",
       "      <td>131.66</td>\n",
       "      <td>6.00</td>\n",
       "      <td>62.00</td>\n",
       "      <td>179.00</td>\n",
       "      <td>270.0</td>\n",
       "      <td>543.0</td>\n",
       "    </tr>\n",
       "    <tr>\n",
       "      <th>days_in_waiting_list</th>\n",
       "      <td>119390.0</td>\n",
       "      <td>2.32</td>\n",
       "      <td>17.59</td>\n",
       "      <td>0.00</td>\n",
       "      <td>0.00</td>\n",
       "      <td>0.00</td>\n",
       "      <td>0.0</td>\n",
       "      <td>391.0</td>\n",
       "    </tr>\n",
       "    <tr>\n",
       "      <th>adr</th>\n",
       "      <td>119390.0</td>\n",
       "      <td>101.83</td>\n",
       "      <td>50.54</td>\n",
       "      <td>-6.38</td>\n",
       "      <td>69.29</td>\n",
       "      <td>94.58</td>\n",
       "      <td>126.0</td>\n",
       "      <td>5400.0</td>\n",
       "    </tr>\n",
       "    <tr>\n",
       "      <th>required_car_parking_spaces</th>\n",
       "      <td>119390.0</td>\n",
       "      <td>0.06</td>\n",
       "      <td>0.25</td>\n",
       "      <td>0.00</td>\n",
       "      <td>0.00</td>\n",
       "      <td>0.00</td>\n",
       "      <td>0.0</td>\n",
       "      <td>8.0</td>\n",
       "    </tr>\n",
       "    <tr>\n",
       "      <th>total_of_special_requests</th>\n",
       "      <td>119390.0</td>\n",
       "      <td>0.57</td>\n",
       "      <td>0.79</td>\n",
       "      <td>0.00</td>\n",
       "      <td>0.00</td>\n",
       "      <td>0.00</td>\n",
       "      <td>1.0</td>\n",
       "      <td>5.0</td>\n",
       "    </tr>\n",
       "  </tbody>\n",
       "</table>\n",
       "</div>"
      ],
      "text/plain": [
       "                                   count     mean     std      min      25%  \\\n",
       "is_canceled                     119390.0     0.37    0.48     0.00     0.00   \n",
       "lead_time                       119390.0   104.01  106.86     0.00    18.00   \n",
       "arrival_date_year               119390.0  2016.16    0.71  2015.00  2016.00   \n",
       "arrival_date_week_number        119390.0    27.17   13.61     1.00    16.00   \n",
       "arrival_date_day_of_month       119390.0    15.80    8.78     1.00     8.00   \n",
       "stays_in_weekend_nights         119390.0     0.93    1.00     0.00     0.00   \n",
       "stays_in_week_nights            119390.0     2.50    1.91     0.00     1.00   \n",
       "adults                          119390.0     1.86    0.58     0.00     2.00   \n",
       "children                        119386.0     0.10    0.40     0.00     0.00   \n",
       "babies                          119390.0     0.01    0.10     0.00     0.00   \n",
       "is_repeated_guest               119390.0     0.03    0.18     0.00     0.00   \n",
       "previous_cancellations          119390.0     0.09    0.84     0.00     0.00   \n",
       "previous_bookings_not_canceled  119390.0     0.14    1.50     0.00     0.00   \n",
       "booking_changes                 119390.0     0.22    0.65     0.00     0.00   \n",
       "agent                           103050.0    86.69  110.77     1.00     9.00   \n",
       "company                           6797.0   189.27  131.66     6.00    62.00   \n",
       "days_in_waiting_list            119390.0     2.32   17.59     0.00     0.00   \n",
       "adr                             119390.0   101.83   50.54    -6.38    69.29   \n",
       "required_car_parking_spaces     119390.0     0.06    0.25     0.00     0.00   \n",
       "total_of_special_requests       119390.0     0.57    0.79     0.00     0.00   \n",
       "\n",
       "                                    50%     75%     max  \n",
       "is_canceled                        0.00     1.0     1.0  \n",
       "lead_time                         69.00   160.0   737.0  \n",
       "arrival_date_year               2016.00  2017.0  2017.0  \n",
       "arrival_date_week_number          28.00    38.0    53.0  \n",
       "arrival_date_day_of_month         16.00    23.0    31.0  \n",
       "stays_in_weekend_nights            1.00     2.0    19.0  \n",
       "stays_in_week_nights               2.00     3.0    50.0  \n",
       "adults                             2.00     2.0    55.0  \n",
       "children                           0.00     0.0    10.0  \n",
       "babies                             0.00     0.0    10.0  \n",
       "is_repeated_guest                  0.00     0.0     1.0  \n",
       "previous_cancellations             0.00     0.0    26.0  \n",
       "previous_bookings_not_canceled     0.00     0.0    72.0  \n",
       "booking_changes                    0.00     0.0    21.0  \n",
       "agent                             14.00   229.0   535.0  \n",
       "company                          179.00   270.0   543.0  \n",
       "days_in_waiting_list               0.00     0.0   391.0  \n",
       "adr                               94.58   126.0  5400.0  \n",
       "required_car_parking_spaces        0.00     0.0     8.0  \n",
       "total_of_special_requests          0.00     1.0     5.0  "
      ]
     },
     "metadata": {},
     "output_type": "display_data"
    }
   ],
   "source": [
    "display(d.describe().T.round(2))"
   ]
  },
  {
   "cell_type": "markdown",
   "metadata": {},
   "source": [
    "We can find:\n",
    "* The ranges of date (including `arrival_date_year`, `arrival_date_week_number` and `arrival_date_day_of_month`) are all reasonable.\n",
    "* The minimum value of `adr`(Average Daily Rate) is negative (-6.38), which is impossible, so the bookings with negative `adr` should be cleaned from our data. \n",
    "* The minimum values of `adults` and `children` are 0. We should make sure that for each booking, the total number of `adults` and `children` is not 0. "
   ]
  },
  {
   "cell_type": "markdown",
   "metadata": {},
   "source": [
    "#### 2.1.2 Data Cleaning"
   ]
  },
  {
   "cell_type": "markdown",
   "metadata": {},
   "source": [
    "Based on what we have found, we clean the data before making further analysis."
   ]
  },
  {
   "cell_type": "markdown",
   "metadata": {},
   "source": [
    "We create a new category for 'NULL' in `agent` and `company`."
   ]
  },
  {
   "cell_type": "code",
   "execution_count": 6,
   "metadata": {},
   "outputs": [],
   "source": [
    "d['agent'] = d['agent'].fillna(0)\n",
    "d['company'] = d['company'].fillna(0)"
   ]
  },
  {
   "cell_type": "markdown",
   "metadata": {},
   "source": [
    "We replace 'Undefined' with 'SC' in `meal` because we can find that they have the same meaning from the table 'Description of Vaviables'. "
   ]
  },
  {
   "cell_type": "code",
   "execution_count": 7,
   "metadata": {},
   "outputs": [],
   "source": [
    "d.loc[d['meal'] == 'Undefined', 'meal'] = 'SC'"
   ]
  },
  {
   "cell_type": "markdown",
   "metadata": {},
   "source": [
    "We replace 'Undefined' in other features with NaN, since they don't have particular meanings and can be treated as missing values."
   ]
  },
  {
   "cell_type": "code",
   "execution_count": 8,
   "metadata": {},
   "outputs": [],
   "source": [
    "d.replace('Undefined', np.nan, inplace = True)"
   ]
  },
  {
   "cell_type": "markdown",
   "metadata": {},
   "source": [
    "Now we want to see how many missing values we have in our data."
   ]
  },
  {
   "cell_type": "code",
   "execution_count": 9,
   "metadata": {},
   "outputs": [
    {
     "data": {
      "text/plain": [
       "children                  4\n",
       "country                 488\n",
       "market_segment            2\n",
       "distribution_channel      5\n",
       "dtype: int64"
      ]
     },
     "execution_count": 9,
     "metadata": {},
     "output_type": "execute_result"
    }
   ],
   "source": [
    "null = d.isnull().sum()\n",
    "null[null.values != 0]"
   ]
  },
  {
   "cell_type": "markdown",
   "metadata": {},
   "source": [
    "The largest possible proportion of missing values in whole data is 499/119390, which is still pretty small. So we can directly delete those bookings with incomplete data."
   ]
  },
  {
   "cell_type": "code",
   "execution_count": 10,
   "metadata": {},
   "outputs": [
    {
     "data": {
      "text/plain": [
       "118897"
      ]
     },
     "execution_count": 10,
     "metadata": {},
     "output_type": "execute_result"
    }
   ],
   "source": [
    "d = d.dropna()\n",
    "len(d)"
   ]
  },
  {
   "cell_type": "markdown",
   "metadata": {},
   "source": [
    "Then we clean the abnormal data. As we analysed before, negative `adr` should be eliminated."
   ]
  },
  {
   "cell_type": "code",
   "execution_count": 11,
   "metadata": {},
   "outputs": [
    {
     "data": {
      "text/plain": [
       "118896"
      ]
     },
     "execution_count": 11,
     "metadata": {},
     "output_type": "execute_result"
    }
   ],
   "source": [
    "d = d[d['adr'] >= 0]\n",
    "len(d)"
   ]
  },
  {
   "cell_type": "markdown",
   "metadata": {},
   "source": [
    "The length of our data only decreases by 1, which indicates that there is only 1 false `adr` data. \n",
    "\n",
    "Then we consider the number of people (adults and children). If a booking has no adult and no child, we believe it is unseasonable and drop it from our data."
   ]
  },
  {
   "cell_type": "code",
   "execution_count": 12,
   "metadata": {},
   "outputs": [
    {
     "data": {
      "text/plain": [
       "118726"
      ]
     },
     "execution_count": 12,
     "metadata": {},
     "output_type": "execute_result"
    }
   ],
   "source": [
    "d.drop(d[d.adults + d.children == 0].index, inplace = True)\n",
    "len(d)"
   ]
  },
  {
   "cell_type": "markdown",
   "metadata": {},
   "source": [
    "The number of bookings is still large. We can then make exploration on it.\n",
    "\n",
    "We also consider whether our data have **duplicates**. Bookings in our data don't have unique identifiers like order numbers, so it is hard to tell whether there is a duplicate. Even if two bookings have the same values for all features, we can't directly regard them as one booking and its copy. Therefore, we don't delete any bookings for the reason of duplication.\n",
    "\n",
    "Finally, we convert the data type of `agent` and `company` into 'object', in order to easily seperate the numerical and categorical features by their types."
   ]
  },
  {
   "cell_type": "code",
   "execution_count": 13,
   "metadata": {},
   "outputs": [],
   "source": [
    "d[['agent', 'company']] = d[['agent', 'company']].astype(int).astype(str)"
   ]
  },
  {
   "cell_type": "markdown",
   "metadata": {},
   "source": [
    "#### 2.1.3 Numerical Features Analysis"
   ]
  },
  {
   "cell_type": "markdown",
   "metadata": {},
   "source": [
    "Now we focus on the numerical features. "
   ]
  },
  {
   "cell_type": "code",
   "execution_count": 14,
   "metadata": {},
   "outputs": [
    {
     "data": {
      "text/plain": [
       "Index(['is_canceled', 'lead_time', 'arrival_date_year',\n",
       "       'arrival_date_week_number', 'arrival_date_day_of_month',\n",
       "       'stays_in_weekend_nights', 'stays_in_week_nights', 'adults', 'children',\n",
       "       'babies', 'is_repeated_guest', 'previous_cancellations',\n",
       "       'previous_bookings_not_canceled', 'booking_changes',\n",
       "       'days_in_waiting_list', 'adr', 'required_car_parking_spaces',\n",
       "       'total_of_special_requests'],\n",
       "      dtype='object')"
      ]
     },
     "execution_count": 14,
     "metadata": {},
     "output_type": "execute_result"
    }
   ],
   "source": [
    "num_data = d.select_dtypes(include = ['int', 'float'])\n",
    "num_data.columns"
   ]
  },
  {
   "cell_type": "markdown",
   "metadata": {},
   "source": [
    "The correlation between these features is shown below."
   ]
  },
  {
   "cell_type": "code",
   "execution_count": 15,
   "metadata": {},
   "outputs": [
    {
     "data": {
      "text/plain": [
       "<AxesSubplot:>"
      ]
     },
     "execution_count": 15,
     "metadata": {},
     "output_type": "execute_result"
    },
    {
     "data": {
      "image/png": "[encoded data removed]",
      "text/plain": [
       "<Figure size 800x560 with 2 Axes>"
      ]
     },
     "metadata": {
      "needs_background": "light"
     },
     "output_type": "display_data"
    }
   ],
   "source": [
    "corr = num_data.corr()\n",
    "sns.set_context({'figure.figsize': [10,7]})\n",
    "sns.heatmap(corr,cmap = 'RdBu_r', annot = True, fmt = '.2f')"
   ]
  },
  {
   "cell_type": "markdown",
   "metadata": {},
   "source": [
    "We can find:\n",
    "* If we focus on the first line, we can see the correlation between `is_canceled` and other features. \n",
    "  * `lead_time` has the largest positive correlation (0.29) with `is_canceled`, which means that the earlier a booking is made, the more likely it is to be cancelled. \n",
    "  * `total_of_special_requests` has the largest negative correlation (-0.24). It indicates that the more special requests a booking has, the less likely it is to be cancelled.\n",
    "  * `required_car_parking_spaces` and `booking_changes` have relatively large negative correlations with `is_canceled`. It seems that the bookings with specific requirements (like car parking spaces, further changes and other special requests) reflect the willingness of the customers to go to the hotel, rather than cancel their bookings.\n",
    "* `arrival_date_year` and `arrival_date_week_number` have the highest correlation among all pairs. However, as the years of our data are too far away from the present, we consider that for the prediction of future cancellation, it is not meaningful to study `arrival_date_year` in the data.\n",
    "* It is natural that `stay_in_week_nights` and `stay_in_weekend_nights` have relatively high correlation. \n",
    "* Customers who have previous bookings that are not cancelled are more likely to book repeatedly.\n",
    "\n",
    "Since the purpose of the project is to understand why customers cancel their reservations, we then focus on the influence of features which have high correlation with `is_canceled`. For convenience, we define a function to calculate the cancellation rate of different values in one feature."
   ]
  },
  {
   "cell_type": "code",
   "execution_count": 16,
   "metadata": {},
   "outputs": [],
   "source": [
    "def cancel_by_group(d, feature_name):\n",
    "    \n",
    "    # all values in this feature\n",
    "    name_list = d[feature_name].drop_duplicates().values\n",
    "    total = []   # the total number of bookings\n",
    "    cancel = []  # the number of cancelled bookings\n",
    "    for name in name_list:\n",
    "        total.append(len(d[d[feature_name] == name]))\n",
    "        cancel.append(len(d[(d[feature_name] == name) & (d['is_canceled'] == 1)]))\n",
    "    cancel_rate = [round(a / b, 2) for a, b in zip(cancel, total)]  # calculate the cancellation rate\n",
    "    feature_cancel = pd.DataFrame({feature_name: name_list, 'total_booking': total, \n",
    "                               'cancellation_rate': cancel_rate})\n",
    "    sort_value = feature_cancel.sort_values(by = ['total_booking'], ascending = False)\n",
    "    return sort_value"
   ]
  },
  {
   "cell_type": "markdown",
   "metadata": {},
   "source": [
    "**lead_time**"
   ]
  },
  {
   "cell_type": "code",
   "execution_count": 17,
   "metadata": {},
   "outputs": [
    {
     "data": {
      "text/plain": [
       "<AxesSubplot:xlabel='lead_time', ylabel='cancellation_rate'>"
      ]
     },
     "execution_count": 17,
     "metadata": {},
     "output_type": "execute_result"
    },
    {
     "data": {
      "image/png": "[encoded data removed]",
      "text/plain": [
       "<Figure size 640x400 with 1 Axes>"
      ]
     },
     "metadata": {
      "needs_background": "light"
     },
     "output_type": "display_data"
    }
   ],
   "source": [
    "lt_c = cancel_by_group(num_data, 'lead_time').sort_values(by = ['lead_time'])\n",
    "sns.set_context({'figure.figsize': [8,5]})\n",
    "sns.scatterplot(x = 'lead_time', y = 'cancellation_rate', data = lt_c)\n",
    "# label and title"
   ]
  },
  {
   "cell_type": "markdown",
   "metadata": {},
   "source": [
    "The plot tells:\n",
    "* When `lead_time` lies within around [0, 100], we can find a clear upward trend, which means that the cancellation rate rises as the number of days booked in advance increases.\n",
    "* When `lead_time` lies within around [100, 200], there is no clear trend. By observation, we find that the cancellation rate fluctuates between approxiamtely 0.2 and 0.6. And as the value of lead_time exceeds 200, the fluctuation range increases with lead_time increasing.\n",
    "* When the value of the `lead_time` exceeds 500, most of the cancellation rate is either 0 or 1, perhaps because the total number of bookings is too small, and these results are not generalized."
   ]
  },
  {
   "cell_type": "markdown",
   "metadata": {},
   "source": [
    "**total_of_special_requests**"
   ]
  },
  {
   "cell_type": "code",
   "execution_count": 18,
   "metadata": {},
   "outputs": [
    {
     "data": {
      "text/plain": [
       "<AxesSubplot:xlabel='total_of_special_requests', ylabel='cancellation_rate'>"
      ]
     },
     "execution_count": 18,
     "metadata": {},
     "output_type": "execute_result"
    },
    {
     "data": {
      "image/png": "[encoded data removed]",
      "text/plain": [
       "<Figure size 640x400 with 1 Axes>"
      ]
     },
     "metadata": {
      "needs_background": "light"
     },
     "output_type": "display_data"
    }
   ],
   "source": [
    "req_c = cancel_by_group(num_data, 'total_of_special_requests').sort_values(by = ['total_of_special_requests'])\n",
    "sns.barplot(x = 'total_of_special_requests', y = 'cancellation_rate', data = req_c, color = sns.xkcd_rgb['steel blue'])"
   ]
  },
  {
   "cell_type": "markdown",
   "metadata": {},
   "source": [
    "The plot tells that nearly a half of bookings without special requests will be cancelled later. If a booking has special requests, there will be an obvious drop in cancellation rate. Besides, if a booking has more than 3 special requests, the probability of cancellation will be even lower."
   ]
  },
  {
   "cell_type": "markdown",
   "metadata": {},
   "source": [
    "**required_car_parking_spaces**"
   ]
  },
  {
   "cell_type": "code",
   "execution_count": 19,
   "metadata": {},
   "outputs": [
    {
     "data": {
      "text/html": [
       "<div>\n",
       "<style scoped>\n",
       "    .dataframe tbody tr th:only-of-type {\n",
       "        vertical-align: middle;\n",
       "    }\n",
       "\n",
       "    .dataframe tbody tr th {\n",
       "        vertical-align: top;\n",
       "    }\n",
       "\n",
       "    .dataframe thead th {\n",
       "        text-align: right;\n",
       "    }\n",
       "</style>\n",
       "<table border=\"1\" class=\"dataframe\">\n",
       "  <thead>\n",
       "    <tr style=\"text-align: right;\">\n",
       "      <th></th>\n",
       "      <th>required_car_parking_spaces</th>\n",
       "      <th>total_booking</th>\n",
       "      <th>cancellation_rate</th>\n",
       "    </tr>\n",
       "  </thead>\n",
       "  <tbody>\n",
       "    <tr>\n",
       "      <th>0</th>\n",
       "      <td>0</td>\n",
       "      <td>111424</td>\n",
       "      <td>0.4</td>\n",
       "    </tr>\n",
       "    <tr>\n",
       "      <th>1</th>\n",
       "      <td>1</td>\n",
       "      <td>7269</td>\n",
       "      <td>0.0</td>\n",
       "    </tr>\n",
       "    <tr>\n",
       "      <th>2</th>\n",
       "      <td>2</td>\n",
       "      <td>28</td>\n",
       "      <td>0.0</td>\n",
       "    </tr>\n",
       "    <tr>\n",
       "      <th>4</th>\n",
       "      <td>3</td>\n",
       "      <td>3</td>\n",
       "      <td>0.0</td>\n",
       "    </tr>\n",
       "    <tr>\n",
       "      <th>3</th>\n",
       "      <td>8</td>\n",
       "      <td>2</td>\n",
       "      <td>0.0</td>\n",
       "    </tr>\n",
       "  </tbody>\n",
       "</table>\n",
       "</div>"
      ],
      "text/plain": [
       "   required_car_parking_spaces  total_booking  cancellation_rate\n",
       "0                            0         111424                0.4\n",
       "1                            1           7269                0.0\n",
       "2                            2             28                0.0\n",
       "4                            3              3                0.0\n",
       "3                            8              2                0.0"
      ]
     },
     "execution_count": 19,
     "metadata": {},
     "output_type": "execute_result"
    }
   ],
   "source": [
    "cancel_by_group(num_data, 'required_car_parking_spaces').sort_values(by = ['required_car_parking_spaces'])"
   ]
  },
  {
   "cell_type": "markdown",
   "metadata": {},
   "source": [
    "It is amazing that the cancellation rate of bookings with requirement on car parking spaces is 0. It is a quite useful feature when we predict whether a booking will be cancelled, but the bookings with such requirement account for only a small percentage. Other features should be explored."
   ]
  },
  {
   "cell_type": "markdown",
   "metadata": {},
   "source": [
    "**booking_changes**"
   ]
  },
  {
   "cell_type": "markdown",
   "metadata": {},
   "source": [
    "From the descriptive statistics of `booking_changes`, we know that it have a quite discrete distribution with several values. We want to select values with enough data (`total_booking` > 100) first, since the results drawn from few data are not general."
   ]
  },
  {
   "cell_type": "code",
   "execution_count": 20,
   "metadata": {},
   "outputs": [
    {
     "data": {
      "text/plain": [
       "0.9988545053316039"
      ]
     },
     "execution_count": 20,
     "metadata": {},
     "output_type": "execute_result"
    }
   ],
   "source": [
    "bc_c = cancel_by_group(num_data, 'booking_changes').sort_values(by = ['booking_changes'])\n",
    "bc_c_d = bc_c[bc_c['total_booking'] > 100]\n",
    "sum(bc_c_d['total_booking'])/sum(bc_c['total_booking'])"
   ]
  },
  {
   "cell_type": "markdown",
   "metadata": {},
   "source": [
    "The bookings with the specified number of changes account for 99.999% of all bookings. The further analysis based on them is tenable."
   ]
  },
  {
   "cell_type": "code",
   "execution_count": 21,
   "metadata": {},
   "outputs": [
    {
     "data": {
      "text/plain": [
       "<AxesSubplot:xlabel='booking_changes', ylabel='cancellation_rate'>"
      ]
     },
     "execution_count": 21,
     "metadata": {},
     "output_type": "execute_result"
    },
    {
     "data": {
      "image/png": "[encoded data removed]",
      "text/plain": [
       "<Figure size 640x400 with 1 Axes>"
      ]
     },
     "metadata": {
      "needs_background": "light"
     },
     "output_type": "display_data"
    }
   ],
   "source": [
    "sns.barplot(x = 'booking_changes', y = 'cancellation_rate', data = bc_c_d, color = sns.xkcd_rgb['steel blue'])"
   ]
  },
  {
   "cell_type": "markdown",
   "metadata": {},
   "source": [
    "There is a large gap in cancellation rate between bookings without any changes (around 40%) and bookings with changes (around 18%). As long as a customer change his booking, he is much less likely to cancel it."
   ]
  },
  {
   "cell_type": "markdown",
   "metadata": {},
   "source": [
    "From the analysis of `total_of_special_requests`, `required_car_parking_spaces` and `booking_changes`, we can conclude that if a customer has specific requirements on the booking, including special requests, car parking spaces and any further changes on the current booking, he has the strong willingness of going to the hotel. Therefore, there is a low risk of cancellation for such type of bookings."
   ]
  },
  {
   "cell_type": "markdown",
   "metadata": {},
   "source": [
    "#### 2.1.4 Categorical Features"
   ]
  },
  {
   "cell_type": "markdown",
   "metadata": {},
   "source": [
    "We then focus on categorical features, which is important for feature engineering."
   ]
  },
  {
   "cell_type": "code",
   "execution_count": 22,
   "metadata": {},
   "outputs": [],
   "source": [
    "# extract columns of categorical features by dtype = object\n",
    "cg_data = d.select_dtypes(include = ['object'])\n",
    "\n",
    "# extract the names of all categorical features\n",
    "cg_features = cg_data.columns\n",
    "\n",
    "# add is_canceled to the data for convenience for further analysis\n",
    "cg_data = pd.concat([cg_data, pd.DataFrame({'is_canceled': d['is_canceled']})], axis = 1)"
   ]
  },
  {
   "cell_type": "code",
   "execution_count": 23,
   "metadata": {},
   "outputs": [
    {
     "data": {
      "text/plain": [
       "Index(['hotel', 'arrival_date_month', 'meal', 'country', 'market_segment',\n",
       "       'distribution_channel', 'reserved_room_type', 'assigned_room_type',\n",
       "       'deposit_type', 'agent', 'company', 'customer_type'],\n",
       "      dtype='object')"
      ]
     },
     "execution_count": 23,
     "metadata": {},
     "output_type": "execute_result"
    }
   ],
   "source": [
    "cg_features"
   ]
  },
  {
   "cell_type": "markdown",
   "metadata": {},
   "source": [
    "We have 12 categorical features. We explore all of them, but in this section, only part of them are presented based on the amount of information they carry."
   ]
  },
  {
   "cell_type": "markdown",
   "metadata": {},
   "source": [
    "**Hotel Type**\n",
    "\n",
    "There are two hotels in our data, which are City Hotel and Resort Hotel. The number of bookings and cancellation rate of each of them are shown in the following table."
   ]
  },
  {
   "cell_type": "code",
   "execution_count": 24,
   "metadata": {},
   "outputs": [
    {
     "data": {
      "text/html": [
       "<div>\n",
       "<style scoped>\n",
       "    .dataframe tbody tr th:only-of-type {\n",
       "        vertical-align: middle;\n",
       "    }\n",
       "\n",
       "    .dataframe tbody tr th {\n",
       "        vertical-align: top;\n",
       "    }\n",
       "\n",
       "    .dataframe thead th {\n",
       "        text-align: right;\n",
       "    }\n",
       "</style>\n",
       "<table border=\"1\" class=\"dataframe\">\n",
       "  <thead>\n",
       "    <tr style=\"text-align: right;\">\n",
       "      <th></th>\n",
       "      <th>hotel</th>\n",
       "      <th>total_booking</th>\n",
       "      <th>cancellation_rate</th>\n",
       "    </tr>\n",
       "  </thead>\n",
       "  <tbody>\n",
       "    <tr>\n",
       "      <th>1</th>\n",
       "      <td>City Hotel</td>\n",
       "      <td>79143</td>\n",
       "      <td>0.42</td>\n",
       "    </tr>\n",
       "    <tr>\n",
       "      <th>0</th>\n",
       "      <td>Resort Hotel</td>\n",
       "      <td>39583</td>\n",
       "      <td>0.28</td>\n",
       "    </tr>\n",
       "  </tbody>\n",
       "</table>\n",
       "</div>"
      ],
      "text/plain": [
       "          hotel  total_booking  cancellation_rate\n",
       "1    City Hotel          79143               0.42\n",
       "0  Resort Hotel          39583               0.28"
      ]
     },
     "execution_count": 24,
     "metadata": {},
     "output_type": "execute_result"
    }
   ],
   "source": [
    "cancel_by_group(cg_data, 'hotel')"
   ]
  },
  {
   "cell_type": "markdown",
   "metadata": {},
   "source": [
    "We can find that City Hotel has more bookings, roughly twice as many as Resort Hotel. Besides, there is a significant difference in cancellation rate. City Hotel has a much higher cancellation rate (42%) than Resort Hotel (28%).\n",
    "\n",
    "Due to the obvious difference between these two hotels, we want to investigate other features based on the type of hotel. For numerical features, we can roughly see their means and try to find the characteristics of each hotel. "
   ]
  },
  {
   "cell_type": "code",
   "execution_count": 25,
   "metadata": {},
   "outputs": [
    {
     "data": {
      "text/html": [
       "<div>\n",
       "<style scoped>\n",
       "    .dataframe tbody tr th:only-of-type {\n",
       "        vertical-align: middle;\n",
       "    }\n",
       "\n",
       "    .dataframe tbody tr th {\n",
       "        vertical-align: top;\n",
       "    }\n",
       "\n",
       "    .dataframe thead th {\n",
       "        text-align: right;\n",
       "    }\n",
       "</style>\n",
       "<table border=\"1\" class=\"dataframe\">\n",
       "  <thead>\n",
       "    <tr style=\"text-align: right;\">\n",
       "      <th>hotel</th>\n",
       "      <th>City Hotel</th>\n",
       "      <th>Resort Hotel</th>\n",
       "    </tr>\n",
       "  </thead>\n",
       "  <tbody>\n",
       "    <tr>\n",
       "      <th>is_canceled</th>\n",
       "      <td>0.4177</td>\n",
       "      <td>0.2798</td>\n",
       "    </tr>\n",
       "    <tr>\n",
       "      <th>lead_time</th>\n",
       "      <td>109.8775</td>\n",
       "      <td>93.4499</td>\n",
       "    </tr>\n",
       "    <tr>\n",
       "      <th>stays_in_weekend_nights</th>\n",
       "      <td>0.7942</td>\n",
       "      <td>1.1962</td>\n",
       "    </tr>\n",
       "    <tr>\n",
       "      <th>stays_in_week_nights</th>\n",
       "      <td>2.1807</td>\n",
       "      <td>3.1411</td>\n",
       "    </tr>\n",
       "    <tr>\n",
       "      <th>adults</th>\n",
       "      <td>1.8548</td>\n",
       "      <td>1.8735</td>\n",
       "    </tr>\n",
       "    <tr>\n",
       "      <th>children</th>\n",
       "      <td>0.0916</td>\n",
       "      <td>0.1299</td>\n",
       "    </tr>\n",
       "    <tr>\n",
       "      <th>babies</th>\n",
       "      <td>0.0050</td>\n",
       "      <td>0.0140</td>\n",
       "    </tr>\n",
       "    <tr>\n",
       "      <th>is_repeated_guest</th>\n",
       "      <td>0.0250</td>\n",
       "      <td>0.0448</td>\n",
       "    </tr>\n",
       "    <tr>\n",
       "      <th>previous_cancellations</th>\n",
       "      <td>0.0798</td>\n",
       "      <td>0.1019</td>\n",
       "    </tr>\n",
       "    <tr>\n",
       "      <th>previous_bookings_not_canceled</th>\n",
       "      <td>0.1324</td>\n",
       "      <td>0.1301</td>\n",
       "    </tr>\n",
       "    <tr>\n",
       "      <th>booking_changes</th>\n",
       "      <td>0.1841</td>\n",
       "      <td>0.2883</td>\n",
       "    </tr>\n",
       "    <tr>\n",
       "      <th>days_in_waiting_list</th>\n",
       "      <td>3.2323</td>\n",
       "      <td>0.5280</td>\n",
       "    </tr>\n",
       "    <tr>\n",
       "      <th>adr</th>\n",
       "      <td>105.5146</td>\n",
       "      <td>95.3755</td>\n",
       "    </tr>\n",
       "    <tr>\n",
       "      <th>required_car_parking_spaces</th>\n",
       "      <td>0.0243</td>\n",
       "      <td>0.1370</td>\n",
       "    </tr>\n",
       "    <tr>\n",
       "      <th>total_of_special_requests</th>\n",
       "      <td>0.5470</td>\n",
       "      <td>0.6212</td>\n",
       "    </tr>\n",
       "  </tbody>\n",
       "</table>\n",
       "</div>"
      ],
      "text/plain": [
       "hotel                           City Hotel  Resort Hotel\n",
       "is_canceled                         0.4177        0.2798\n",
       "lead_time                         109.8775       93.4499\n",
       "stays_in_weekend_nights             0.7942        1.1962\n",
       "stays_in_week_nights                2.1807        3.1411\n",
       "adults                              1.8548        1.8735\n",
       "children                            0.0916        0.1299\n",
       "babies                              0.0050        0.0140\n",
       "is_repeated_guest                   0.0250        0.0448\n",
       "previous_cancellations              0.0798        0.1019\n",
       "previous_bookings_not_canceled      0.1324        0.1301\n",
       "booking_changes                     0.1841        0.2883\n",
       "days_in_waiting_list                3.2323        0.5280\n",
       "adr                               105.5146       95.3755\n",
       "required_car_parking_spaces         0.0243        0.1370\n",
       "total_of_special_requests           0.5470        0.6212"
      ]
     },
     "metadata": {},
     "output_type": "display_data"
    }
   ],
   "source": [
    "data_hotel = d.groupby('hotel').mean()\n",
    "data_hotel.drop(['arrival_date_year','arrival_date_week_number','arrival_date_day_of_month'], axis = 1, inplace = True)\n",
    "display(data_hotel.T.round(4))"
   ]
  },
  {
   "cell_type": "markdown",
   "metadata": {},
   "source": [
    "From the table, we can find:\n",
    "* For City Hotel, the average number of days booked in advance (110 days) is longer than that for Resort Hotel (93 days). It seems that customers of City Hotel are likely to make reservations more days in advance. Consider the larger number of total bookings in City Hotel, we speculate that City Hotel is busier and more popular, so that customers book far in advance, in case the rooms are full. \n",
    "* On average, customers of Resort Hotel stay longer, either in week nights or in weekend nights. Besides, the guests of Resort Hotel contains more children and babies. It can be easily explained by people's habits on holiday (longer stay in one hotel and travelling with whole family).\n",
    "* Bookings of Resort Hotel have more specific requirements, including changing the current bookings, asking for car parking spaces, and having special requests. It is consisitent with our analysis before that such type of bookings reflects the strong willingness of guests to go to the hotel so that Resort Hotel has a lower cancellation rate.\n",
    "* Bookings of City Hotel have longer time staying in the waiting list. It might be because the hotel is nearly full and the staff are waiting for cancellation before confirming the bookings. Considering the relatively high cancellation rate in City Hotel (42%), such waiting is reasonable.\n",
    "* The Average Daily Rate of City Hotel is higher than that of Resort Hotel. There are many possible reasons, such as the higher demand for City Hotel. "
   ]
  },
  {
   "cell_type": "markdown",
   "metadata": {},
   "source": [
    "Then we continue to explore categorical features. If meaningful, we will analyze based on the type of hotels. For convenience, we define a function to calculate the total number of bookings and cancellation rate for each hotel on one feature."
   ]
  },
  {
   "cell_type": "code",
   "execution_count": 26,
   "metadata": {},
   "outputs": [],
   "source": [
    "def hotel_cancel(d, feature_name):\n",
    "    \n",
    "    # apply the function cancel_by_group to resort hotel data\n",
    "    resort = cancel_by_group(d[d['hotel'] == 'Resort Hotel'], feature_name).sort_values(by = [feature_name])\n",
    "    # apply the function cancel_by_group to city hotel data\n",
    "    city = cancel_by_group(d[d['hotel'] == 'City Hotel'], feature_name).sort_values(by = [feature_name])\n",
    "    hotel_type = ['']\n",
    "    # add one column 'hotel_type', which makes it easier to plot\n",
    "    resort_cancel = pd.DataFrame({feature_name: resort[feature_name], \n",
    "                                  'total_booking': resort['total_booking'],\n",
    "                                  'cancellation_rate': resort['cancellation_rate'],\n",
    "                                  'hotel_type': 'Resort hotel'})\n",
    "    city_cancel = pd.DataFrame({feature_name: city[feature_name], \n",
    "                                'total_booking': city['total_booking'],\n",
    "                                'cancellation_rate': city['cancellation_rate'],\n",
    "                                'hotel_type': 'City hotel'})\n",
    "    cancel = pd.concat([resort_cancel, city_cancel], ignore_index=True)\n",
    "    return cancel"
   ]
  },
  {
   "cell_type": "markdown",
   "metadata": {},
   "source": [
    "**Month of Arrival Date**"
   ]
  },
  {
   "cell_type": "code",
   "execution_count": 27,
   "metadata": {},
   "outputs": [],
   "source": [
    "# create a list of ordered month name from January to December\n",
    "month_num_list = list(range(1, 13))\n",
    "month_name_list = [calendar.month_name[i] for i in month_num_list]"
   ]
  },
  {
   "cell_type": "code",
   "execution_count": 28,
   "metadata": {},
   "outputs": [
    {
     "data": {
      "text/plain": [
       "<AxesSubplot:xlabel='arrival_date_month', ylabel='cancellation_rate'>"
      ]
     },
     "execution_count": 28,
     "metadata": {},
     "output_type": "execute_result"
    },
    {
     "data": {
      "image/png": "[encoded data removed]",
      "text/plain": [
       "<Figure size 960x400 with 1 Axes>"
      ]
     },
     "metadata": {
      "needs_background": "light"
     },
     "output_type": "display_data"
    }
   ],
   "source": [
    "hotel_month = hotel_cancel(cg_data, 'arrival_date_month')\n",
    "sns.set_context({'figure.figsize': [12,5]})\n",
    "sns.barplot(x = 'arrival_date_month', y = \"cancellation_rate\" , hue=\"hotel_type\", data = hotel_month, order = month_name_list)"
   ]
  },
  {
   "cell_type": "markdown",
   "metadata": {},
   "source": [
    "City Hotel has higher cancellation rates than Resort Hotel throughout the year, and there is no clear trend in monthly cancellation rates. On the other hand, Resort Hotel has a higher cancellation rate in June, July, August and September, compared to the beginning and end of the year."
   ]
  },
  {
   "cell_type": "markdown",
   "metadata": {},
   "source": [
    "**Meal Type**"
   ]
  },
  {
   "cell_type": "code",
   "execution_count": 29,
   "metadata": {},
   "outputs": [
    {
     "data": {
      "image/png": "[encoded data removed]",
      "text/plain": [
       "<Figure size 1200x320 with 2 Axes>"
      ]
     },
     "metadata": {
      "needs_background": "light"
     },
     "output_type": "display_data"
    }
   ],
   "source": [
    "hotel_meal = hotel_cancel(cg_data, 'meal')\n",
    "fig = plt.figure(figsize=(15, 4))\n",
    "fig.add_subplot(1, 2, 1)\n",
    "ax1 = sns.barplot(x = 'meal', y = 'total_booking' , hue = 'hotel_type', data = hotel_meal)\n",
    "for i in ax1.containers:\n",
    "    ax1.bar_label(i, fontsize = 8)\n",
    "fig.add_subplot(1, 2, 2)\n",
    "ax2 = sns.barplot(x = 'meal', y = 'cancellation_rate' , hue='hotel_type', data = hotel_meal)\n",
    "for i in ax2.containers:\n",
    "    ax2.bar_label(i, fontsize = 8)"
   ]
  },
  {
   "cell_type": "markdown",
   "metadata": {},
   "source": [
    "The graph shows:\n",
    "* In all `meal` categories, the cancellation rate for City Hotel is higher than that for Resort Hotel. \n",
    "* The highest cancellation rates for both type of hotels are found in the Full board (FB) category. However, we can see that the total number of bookings in the Full board (FB) category is very low and thus this result is not considered to be generalised. \n",
    "* Except for the Full board (FB) category, bookings with Bed & Breakfast (BB) is the most likely to cancel for City Hotel. For Resort Hotel, it is Half board (HB) that is most likely to have high cancellation rates."
   ]
  },
  {
   "cell_type": "markdown",
   "metadata": {},
   "source": [
    "**Country of Origin**"
   ]
  },
  {
   "cell_type": "markdown",
   "metadata": {},
   "source": [
    "As for the nationality of guests, we prefer to treat the two hotels as a whole, that is, not to discuss the two hotels separately. In fact, even when analyzed separately, the nationality distribution of their guests is similar."
   ]
  },
  {
   "cell_type": "code",
   "execution_count": 30,
   "metadata": {},
   "outputs": [
    {
     "data": {
      "text/html": [
       "<div>\n",
       "<style scoped>\n",
       "    .dataframe tbody tr th:only-of-type {\n",
       "        vertical-align: middle;\n",
       "    }\n",
       "\n",
       "    .dataframe tbody tr th {\n",
       "        vertical-align: top;\n",
       "    }\n",
       "\n",
       "    .dataframe thead th {\n",
       "        text-align: right;\n",
       "    }\n",
       "</style>\n",
       "<table border=\"1\" class=\"dataframe\">\n",
       "  <thead>\n",
       "    <tr style=\"text-align: right;\">\n",
       "      <th></th>\n",
       "      <th>total_booking</th>\n",
       "      <th>cancellation_rate</th>\n",
       "    </tr>\n",
       "  </thead>\n",
       "  <tbody>\n",
       "    <tr>\n",
       "      <th>count</th>\n",
       "      <td>177.0000</td>\n",
       "      <td>177.0000</td>\n",
       "    </tr>\n",
       "    <tr>\n",
       "      <th>mean</th>\n",
       "      <td>670.7684</td>\n",
       "      <td>0.3029</td>\n",
       "    </tr>\n",
       "    <tr>\n",
       "      <th>std</th>\n",
       "      <td>3922.8794</td>\n",
       "      <td>0.2987</td>\n",
       "    </tr>\n",
       "    <tr>\n",
       "      <th>min</th>\n",
       "      <td>1.0000</td>\n",
       "      <td>0.0000</td>\n",
       "    </tr>\n",
       "    <tr>\n",
       "      <th>25%</th>\n",
       "      <td>2.0000</td>\n",
       "      <td>0.0000</td>\n",
       "    </tr>\n",
       "    <tr>\n",
       "      <th>50%</th>\n",
       "      <td>12.0000</td>\n",
       "      <td>0.2500</td>\n",
       "    </tr>\n",
       "    <tr>\n",
       "      <th>75%</th>\n",
       "      <td>74.0000</td>\n",
       "      <td>0.4600</td>\n",
       "    </tr>\n",
       "    <tr>\n",
       "      <th>max</th>\n",
       "      <td>48478.0000</td>\n",
       "      <td>1.0000</td>\n",
       "    </tr>\n",
       "  </tbody>\n",
       "</table>\n",
       "</div>"
      ],
      "text/plain": [
       "       total_booking  cancellation_rate\n",
       "count       177.0000           177.0000\n",
       "mean        670.7684             0.3029\n",
       "std        3922.8794             0.2987\n",
       "min           1.0000             0.0000\n",
       "25%           2.0000             0.0000\n",
       "50%          12.0000             0.2500\n",
       "75%          74.0000             0.4600\n",
       "max       48478.0000             1.0000"
      ]
     },
     "metadata": {},
     "output_type": "display_data"
    }
   ],
   "source": [
    "country_c = cancel_by_group(cg_data, 'country')\n",
    "display(country_c.describe().round(4))"
   ]
  },
  {
   "cell_type": "markdown",
   "metadata": {},
   "source": [
    "From the above table, we find that at least 75% of countries have only limited bookings (less than 100). Countries with few bookings will be ignored in later analysis because:\n",
    "1. With too few data, we can't get a general result for guests with nationality of this country.\n",
    "2. When running a hotel, we want to focus on main customer groups. Paying much attention to the minority doesn't cost effective.\n",
    "\n",
    "Meanwhile, we don't want to exclude too many bookings, so the threshold of the least total bookings of one country needs setting carefully. Here, we choose countries with total bookings > 1000 and get 15 countries (see the graph below)."
   ]
  },
  {
   "cell_type": "code",
   "execution_count": 31,
   "metadata": {},
   "outputs": [
    {
     "name": "stdout",
     "output_type": "stream",
     "text": [
      "90.99 %\n"
     ]
    }
   ],
   "source": [
    "country_c_d = country_c[country_c['total_booking'] > 1000]\n",
    "print(round(sum(country_c_d['total_booking'])/sum(country_c['total_booking'])*100,2),'%')"
   ]
  },
  {
   "cell_type": "markdown",
   "metadata": {},
   "source": [
    "These 15 countries account for more than 90% of total bookings."
   ]
  },
  {
   "cell_type": "code",
   "execution_count": 32,
   "metadata": {},
   "outputs": [
    {
     "data": {
      "image/png": "[encoded data removed]",
      "text/plain": [
       "<Figure size 1200x320 with 2 Axes>"
      ]
     },
     "metadata": {
      "needs_background": "light"
     },
     "output_type": "display_data"
    }
   ],
   "source": [
    "sns.set_context({'figure.figsize': [10,5]})\n",
    "fig = plt.figure(figsize=(15, 4))\n",
    "fig.add_subplot(1, 2, 1)\n",
    "colors = sns.color_palette('deep')\n",
    "wedges, text = plt.pie(country_c_d['total_booking'], colors = colors)\n",
    "plt.legend(wedges, country_c_d['country'], title = 'Country', loc = 'center left', bbox_to_anchor = (1, 0, 0.5, 1))\n",
    "plt.title('The Number of Bookings for Top 15 Countries')\n",
    "fig.add_subplot(1, 2, 2)\n",
    "ax = sns.barplot(x = 'country', y = 'cancellation_rate', data = country_c_d, palette = colors)\n",
    "for i in ax.containers:\n",
    "    ax.bar_label(i)"
   ]
  },
  {
   "cell_type": "markdown",
   "metadata": {},
   "source": [
    "The graph shows that\n",
    "* Portugal (PRT) is the country with the most guests and the highest cancellation rate (57%). We can reasonably speculate that these two hotels are in Portugal, so there are more guests from this country. Moreover, due to the shorter distance or more convenient transportation, it is less costly for Portuguese to change their travel, so the proportion of booking cancellations is higher.\n",
    "* Italy (ITA) and Brazil (BRA) have relatively high cancellation rate (35% and 37% respectively),and other countries in the top 15 except for Portugal have cancellation rates around 20%."
   ]
  },
  {
   "cell_type": "markdown",
   "metadata": {},
   "source": [
    "**Distribution Channel**"
   ]
  },
  {
   "cell_type": "code",
   "execution_count": 33,
   "metadata": {},
   "outputs": [
    {
     "data": {
      "image/png": "[encoded data removed]",
      "text/plain": [
       "<Figure size 1200x320 with 2 Axes>"
      ]
     },
     "metadata": {
      "needs_background": "light"
     },
     "output_type": "display_data"
    }
   ],
   "source": [
    "hotel_channel = hotel_cancel(cg_data, 'distribution_channel')\n",
    "fig = plt.figure(figsize=(15, 4))\n",
    "fig.add_subplot(1, 2, 1)\n",
    "ax1 = sns.barplot(x = 'distribution_channel', y = 'total_booking' , hue = 'hotel_type', data = hotel_channel)\n",
    "for i in ax1.containers:\n",
    "    ax1.bar_label(i, fontsize = 8)\n",
    "fig.add_subplot(1, 2, 2)\n",
    "ax2 = sns.barplot(x = 'distribution_channel', y = 'cancellation_rate' , hue = 'hotel_type', data = hotel_channel)\n",
    "for i in ax2.containers:\n",
    "    ax2.bar_label(i)"
   ]
  },
  {
   "cell_type": "markdown",
   "metadata": {},
   "source": [
    "We observe that\n",
    "* For total bookings, the majority of customers make their bookings through Travel Agents (TA) and Tour Operators (TO). In addition, the Resort Hotel does not have orders booked through GDS, perhaps because the hotel does not have a GDS booking channel. Although the City Hotel did have GDS bookings, the total number of bookings was so small that the availability of the GDS channel did not have a significant impact on the total number of hotel bookings.\n",
    "* For cancellation rate, in all the `distribution_channels` categories, City Hotel has higher cancellation rates than Resort Hotel. Besides, bookings through Travel Agents and Tour Operators (TA/TO) have the highest cancellation rates for both hotels."
   ]
  },
  {
   "cell_type": "markdown",
   "metadata": {},
   "source": [
    "**Room Type**"
   ]
  },
  {
   "cell_type": "markdown",
   "metadata": {},
   "source": [
    "There are two features about room type, `reserved_room_type` and `assigned_room_type`. We will first explore the relationship between the reserved room types and cancellation rates, and then consider whether assigning the same type of rooms as reservation has a significant influence on the cancellation rate."
   ]
  },
  {
   "cell_type": "code",
   "execution_count": 34,
   "metadata": {},
   "outputs": [
    {
     "data": {
      "image/png": "[encoded data removed]",
      "text/plain": [
       "<Figure size 1200x320 with 2 Axes>"
      ]
     },
     "metadata": {
      "needs_background": "light"
     },
     "output_type": "display_data"
    }
   ],
   "source": [
    "hotel_rm = hotel_cancel(cg_data, 'reserved_room_type')\n",
    "fig = plt.figure(figsize=(15, 4))\n",
    "fig.add_subplot(1, 2, 1)\n",
    "ax1 = sns.barplot(x = 'reserved_room_type', y = 'total_booking' , hue = 'hotel_type', data = hotel_rm)\n",
    "for i in ax1.containers:\n",
    "    ax1.bar_label(i, fontsize = 8)\n",
    "fig.add_subplot(1, 2, 2)\n",
    "ax2 = sns.barplot(x = 'reserved_room_type', y = 'cancellation_rate' , hue = 'hotel_type', data = hotel_rm)\n",
    "ax2.legend(loc = 'lower right', title = 'hotel_type')\n",
    "for i in ax2.containers:\n",
    "    ax2.bar_label(i, fontsize = 8)"
   ]
  },
  {
   "cell_type": "markdown",
   "metadata": {},
   "source": [
    "From the graph, we can tell:\n",
    "* The room type reserved by most guests of both Resort Hotel and City Hotel is Type A. Many types only have few bookings such as type B in Resort Hotel and Type C in City Hotel. Besides, we speculate that the room types of the two hotels are not the same, since there is no bookings of type H and L in City Hotel.\n",
    "* Due to the small number of bookings in many types of rooms, the detailed analysis of cancellation rate for each type in each hotel is lack of need. If we see the cancellation rates for type A (28% in Resort Hotel and 44% in City Hotel), we can find that they are close to the cancellation rate for the whole hotel (28% and 42% respectively). "
   ]
  },
  {
   "cell_type": "markdown",
   "metadata": {},
   "source": [
    "Now we want to find whether assigning the same type of rooms as reservation has any influence on the cancellation rate. We add a new column `same_room_type` into our data, which represents whether the assigned room type is same as the reserved room type."
   ]
  },
  {
   "cell_type": "code",
   "execution_count": 35,
   "metadata": {},
   "outputs": [],
   "source": [
    "cg_data['same_room_type'] = cg_data['reserved_room_type'] == cg_data['assigned_room_type']"
   ]
  },
  {
   "cell_type": "code",
   "execution_count": 36,
   "metadata": {},
   "outputs": [
    {
     "data": {
      "text/html": [
       "<div>\n",
       "<style scoped>\n",
       "    .dataframe tbody tr th:only-of-type {\n",
       "        vertical-align: middle;\n",
       "    }\n",
       "\n",
       "    .dataframe tbody tr th {\n",
       "        vertical-align: top;\n",
       "    }\n",
       "\n",
       "    .dataframe thead th {\n",
       "        text-align: right;\n",
       "    }\n",
       "</style>\n",
       "<table border=\"1\" class=\"dataframe\">\n",
       "  <thead>\n",
       "    <tr style=\"text-align: right;\">\n",
       "      <th></th>\n",
       "      <th>same_room_type</th>\n",
       "      <th>total_booking</th>\n",
       "      <th>cancellation_rate</th>\n",
       "      <th>hotel_type</th>\n",
       "    </tr>\n",
       "  </thead>\n",
       "  <tbody>\n",
       "    <tr>\n",
       "      <th>0</th>\n",
       "      <td>False</td>\n",
       "      <td>7499</td>\n",
       "      <td>0.05</td>\n",
       "      <td>Resort hotel</td>\n",
       "    </tr>\n",
       "    <tr>\n",
       "      <th>1</th>\n",
       "      <td>True</td>\n",
       "      <td>32084</td>\n",
       "      <td>0.33</td>\n",
       "      <td>Resort hotel</td>\n",
       "    </tr>\n",
       "    <tr>\n",
       "      <th>2</th>\n",
       "      <td>False</td>\n",
       "      <td>7078</td>\n",
       "      <td>0.06</td>\n",
       "      <td>City hotel</td>\n",
       "    </tr>\n",
       "    <tr>\n",
       "      <th>3</th>\n",
       "      <td>True</td>\n",
       "      <td>72065</td>\n",
       "      <td>0.45</td>\n",
       "      <td>City hotel</td>\n",
       "    </tr>\n",
       "  </tbody>\n",
       "</table>\n",
       "</div>"
      ],
      "text/plain": [
       "   same_room_type  total_booking  cancellation_rate    hotel_type\n",
       "0           False           7499               0.05  Resort hotel\n",
       "1            True          32084               0.33  Resort hotel\n",
       "2           False           7078               0.06    City hotel\n",
       "3            True          72065               0.45    City hotel"
      ]
     },
     "execution_count": 36,
     "metadata": {},
     "output_type": "execute_result"
    }
   ],
   "source": [
    "hotel_cancel(cg_data, 'same_room_type')"
   ]
  },
  {
   "cell_type": "markdown",
   "metadata": {},
   "source": [
    "From the result, we can see that for both hotels, assigning different type of rooms will result in a much lower cancellation rate. Recalling our own experience in hotels, if the hotels change our reserved room type, it is common that they upgrade the room for us. At the same price, everyone will be willing to enjoy better rooms. This may be the reason behind the low cancellation rate."
   ]
  },
  {
   "cell_type": "markdown",
   "metadata": {},
   "source": [
    "**Deposit Type**"
   ]
  },
  {
   "cell_type": "code",
   "execution_count": 37,
   "metadata": {},
   "outputs": [
    {
     "data": {
      "image/png": "[encoded data removed]",
      "text/plain": [
       "<Figure size 1200x320 with 2 Axes>"
      ]
     },
     "metadata": {
      "needs_background": "light"
     },
     "output_type": "display_data"
    }
   ],
   "source": [
    "hotel_deposit = hotel_cancel(cg_data, 'deposit_type')\n",
    "fig = plt.figure(figsize=(15, 4))\n",
    "fig.add_subplot(1, 2, 1)\n",
    "ax1 = sns.barplot(x = 'deposit_type', y = 'total_booking' , hue = 'hotel_type', data = hotel_deposit)\n",
    "for i in ax1.containers:\n",
    "    ax1.bar_label(i, fontsize = 8)\n",
    "fig.add_subplot(1, 2, 2)\n",
    "ax2 = sns.barplot(x = 'deposit_type', y = 'cancellation_rate' , hue = 'hotel_type', data = hotel_deposit)\n",
    "for i in ax2.containers:\n",
    "    ax2.bar_label(i)"
   ]
  },
  {
   "cell_type": "markdown",
   "metadata": {},
   "source": [
    "From the graph, we can see that City Hotel has a high cancellation rate (70%) in refundable bookings, but as the total number of such bookings is so small (only 20 bookings) that we don't have to worry about it.\n",
    "\n",
    "A more serious thing is that the cancellation rate for non-refundable bookings is the highest. Resort Hotel has 96% cancellation rate in 1719 non-refundable bookings and City Hotel has nearly 100% cancellation rate in more than 12000 non-refundable bookings, which is counter-intuitive. We next want to explain it using our data."
   ]
  },
  {
   "cell_type": "code",
   "execution_count": 38,
   "metadata": {},
   "outputs": [
    {
     "data": {
      "text/html": [
       "<div>\n",
       "<style scoped>\n",
       "    .dataframe tbody tr th:only-of-type {\n",
       "        vertical-align: middle;\n",
       "    }\n",
       "\n",
       "    .dataframe tbody tr th {\n",
       "        vertical-align: top;\n",
       "    }\n",
       "\n",
       "    .dataframe thead th {\n",
       "        text-align: right;\n",
       "    }\n",
       "</style>\n",
       "<table border=\"1\" class=\"dataframe\">\n",
       "  <thead>\n",
       "    <tr style=\"text-align: right;\">\n",
       "      <th>deposit_type</th>\n",
       "      <th>No Deposit</th>\n",
       "      <th>Non Refund</th>\n",
       "      <th>Refundable</th>\n",
       "    </tr>\n",
       "  </thead>\n",
       "  <tbody>\n",
       "    <tr>\n",
       "      <th>is_canceled</th>\n",
       "      <td>0.2849</td>\n",
       "      <td>0.9936</td>\n",
       "      <td>0.2222</td>\n",
       "    </tr>\n",
       "    <tr>\n",
       "      <th>lead_time</th>\n",
       "      <td>89.1175</td>\n",
       "      <td>212.9280</td>\n",
       "      <td>152.0988</td>\n",
       "    </tr>\n",
       "    <tr>\n",
       "      <th>stays_in_weekend_nights</th>\n",
       "      <td>0.9711</td>\n",
       "      <td>0.6223</td>\n",
       "      <td>0.9753</td>\n",
       "    </tr>\n",
       "    <tr>\n",
       "      <th>stays_in_week_nights</th>\n",
       "      <td>2.5579</td>\n",
       "      <td>2.0902</td>\n",
       "      <td>2.8519</td>\n",
       "    </tr>\n",
       "    <tr>\n",
       "      <th>adults</th>\n",
       "      <td>1.8680</td>\n",
       "      <td>1.8112</td>\n",
       "      <td>1.9074</td>\n",
       "    </tr>\n",
       "    <tr>\n",
       "      <th>children</th>\n",
       "      <td>0.1190</td>\n",
       "      <td>0.0006</td>\n",
       "      <td>0.0309</td>\n",
       "    </tr>\n",
       "    <tr>\n",
       "      <th>babies</th>\n",
       "      <td>0.0091</td>\n",
       "      <td>0.0000</td>\n",
       "      <td>0.0000</td>\n",
       "    </tr>\n",
       "    <tr>\n",
       "      <th>is_repeated_guest</th>\n",
       "      <td>0.0354</td>\n",
       "      <td>0.0044</td>\n",
       "      <td>0.0247</td>\n",
       "    </tr>\n",
       "    <tr>\n",
       "      <th>previous_cancellations</th>\n",
       "      <td>0.0418</td>\n",
       "      <td>0.4119</td>\n",
       "      <td>0.0000</td>\n",
       "    </tr>\n",
       "    <tr>\n",
       "      <th>previous_bookings_not_canceled</th>\n",
       "      <td>0.1487</td>\n",
       "      <td>0.0106</td>\n",
       "      <td>0.0185</td>\n",
       "    </tr>\n",
       "    <tr>\n",
       "      <th>booking_changes</th>\n",
       "      <td>0.2471</td>\n",
       "      <td>0.0125</td>\n",
       "      <td>0.5926</td>\n",
       "    </tr>\n",
       "    <tr>\n",
       "      <th>days_in_waiting_list</th>\n",
       "      <td>1.5249</td>\n",
       "      <td>7.9999</td>\n",
       "      <td>9.5864</td>\n",
       "    </tr>\n",
       "    <tr>\n",
       "      <th>adr</th>\n",
       "      <td>103.8768</td>\n",
       "      <td>89.9880</td>\n",
       "      <td>76.2098</td>\n",
       "    </tr>\n",
       "    <tr>\n",
       "      <th>required_car_parking_spaces</th>\n",
       "      <td>0.0705</td>\n",
       "      <td>0.0001</td>\n",
       "      <td>0.1235</td>\n",
       "    </tr>\n",
       "    <tr>\n",
       "      <th>total_of_special_requests</th>\n",
       "      <td>0.6523</td>\n",
       "      <td>0.0018</td>\n",
       "      <td>0.1420</td>\n",
       "    </tr>\n",
       "  </tbody>\n",
       "</table>\n",
       "</div>"
      ],
      "text/plain": [
       "deposit_type                    No Deposit  Non Refund  Refundable\n",
       "is_canceled                         0.2849      0.9936      0.2222\n",
       "lead_time                          89.1175    212.9280    152.0988\n",
       "stays_in_weekend_nights             0.9711      0.6223      0.9753\n",
       "stays_in_week_nights                2.5579      2.0902      2.8519\n",
       "adults                              1.8680      1.8112      1.9074\n",
       "children                            0.1190      0.0006      0.0309\n",
       "babies                              0.0091      0.0000      0.0000\n",
       "is_repeated_guest                   0.0354      0.0044      0.0247\n",
       "previous_cancellations              0.0418      0.4119      0.0000\n",
       "previous_bookings_not_canceled      0.1487      0.0106      0.0185\n",
       "booking_changes                     0.2471      0.0125      0.5926\n",
       "days_in_waiting_list                1.5249      7.9999      9.5864\n",
       "adr                               103.8768     89.9880     76.2098\n",
       "required_car_parking_spaces         0.0705      0.0001      0.1235\n",
       "total_of_special_requests           0.6523      0.0018      0.1420"
      ]
     },
     "metadata": {},
     "output_type": "display_data"
    }
   ],
   "source": [
    "data_deposit = d.groupby('deposit_type').mean()\n",
    "data_deposit.drop(['arrival_date_year','arrival_date_week_number','arrival_date_day_of_month'], axis = 1, inplace = True)\n",
    "display(data_deposit.T.round(4))"
   ]
  },
  {
   "cell_type": "markdown",
   "metadata": {},
   "source": [
    "Calculating all mean values of the data grouped by deposit type, we can see:\n",
    "* On average, non-refundable bookings have a longer `lead_time`, but a shorter length of stay.\n",
    "* Non-refundable bookings have a lower average number of children and babies.\n",
    "* Non-refundable bookings have a low average rate of repeated guests (0.44%), but once they are repeated guests, the average number of cancellations of their previous orders is high.\n",
    "* Non-refundable bookings tend to have fewer special needs and demand for car parking spaces. And the average number of changes made to an order after it has been entered on the PMS is only 0.012, which is very low.\n",
    "\n",
    "Based on the above findings, we guess that these non-refundable bookings are made for business trips. And the nature of business trips result in a high cancellation rate. In more detail, for a business trip, all preparations will be done far in advance, and in consideration of saving money, non-refundable reservation which is very likely to be cheaper will be chosen. But at the same time, it is also subject to changes of circumstances, which will lead to cancellation. Next we want to see whether this guess is tenable."
   ]
  },
  {
   "cell_type": "code",
   "execution_count": 39,
   "metadata": {},
   "outputs": [
    {
     "data": {
      "text/plain": [
       "14573"
      ]
     },
     "execution_count": 39,
     "metadata": {},
     "output_type": "execute_result"
    }
   ],
   "source": [
    "nonrefund = cg_data[cg_data['deposit_type'] == 'Non Refund']\n",
    "len(nonrefund)"
   ]
  },
  {
   "cell_type": "code",
   "execution_count": 40,
   "metadata": {},
   "outputs": [
    {
     "data": {
      "text/plain": [
       "(506, 14)"
      ]
     },
     "execution_count": 40,
     "metadata": {},
     "output_type": "execute_result"
    }
   ],
   "source": [
    "nonrefund[nonrefund['company'] != '0'].shape"
   ]
  },
  {
   "cell_type": "markdown",
   "metadata": {},
   "source": [
    "It shows that only a small percentage (506/14573) of non-returnable orders are made by companies, so it cannot verify our guess and this nearly to 1 cancellation rate for non-refundable bookings is still strange. We consider to exclude `deposit_type` from our model."
   ]
  },
  {
   "cell_type": "markdown",
   "metadata": {},
   "source": [
    "**Agent and Company**"
   ]
  },
  {
   "cell_type": "markdown",
   "metadata": {},
   "source": [
    "For `agent` and `company`, we deal with them similar to what we have done for `country`. There are too many agencies and companies in our data and we are only interested in those with large number of total bookings.\n",
    "\n",
    "Firstly, we focus on `agent`."
   ]
  },
  {
   "cell_type": "code",
   "execution_count": 41,
   "metadata": {},
   "outputs": [
    {
     "data": {
      "text/html": [
       "<div>\n",
       "<style scoped>\n",
       "    .dataframe tbody tr th:only-of-type {\n",
       "        vertical-align: middle;\n",
       "    }\n",
       "\n",
       "    .dataframe tbody tr th {\n",
       "        vertical-align: top;\n",
       "    }\n",
       "\n",
       "    .dataframe thead th {\n",
       "        text-align: right;\n",
       "    }\n",
       "</style>\n",
       "<table border=\"1\" class=\"dataframe\">\n",
       "  <thead>\n",
       "    <tr style=\"text-align: right;\">\n",
       "      <th></th>\n",
       "      <th>total_booking</th>\n",
       "      <th>cancellation_rate</th>\n",
       "    </tr>\n",
       "  </thead>\n",
       "  <tbody>\n",
       "    <tr>\n",
       "      <th>count</th>\n",
       "      <td>409.000000</td>\n",
       "      <td>409.000000</td>\n",
       "    </tr>\n",
       "    <tr>\n",
       "      <th>mean</th>\n",
       "      <td>290.283619</td>\n",
       "      <td>0.241809</td>\n",
       "    </tr>\n",
       "    <tr>\n",
       "      <th>std</th>\n",
       "      <td>1863.786785</td>\n",
       "      <td>0.312919</td>\n",
       "    </tr>\n",
       "    <tr>\n",
       "      <th>min</th>\n",
       "      <td>1.000000</td>\n",
       "      <td>0.000000</td>\n",
       "    </tr>\n",
       "    <tr>\n",
       "      <th>25%</th>\n",
       "      <td>2.000000</td>\n",
       "      <td>0.000000</td>\n",
       "    </tr>\n",
       "    <tr>\n",
       "      <th>50%</th>\n",
       "      <td>19.000000</td>\n",
       "      <td>0.100000</td>\n",
       "    </tr>\n",
       "    <tr>\n",
       "      <th>75%</th>\n",
       "      <td>76.000000</td>\n",
       "      <td>0.390000</td>\n",
       "    </tr>\n",
       "    <tr>\n",
       "      <th>max</th>\n",
       "      <td>31915.000000</td>\n",
       "      <td>1.000000</td>\n",
       "    </tr>\n",
       "  </tbody>\n",
       "</table>\n",
       "</div>"
      ],
      "text/plain": [
       "       total_booking  cancellation_rate\n",
       "count     409.000000         409.000000\n",
       "mean      290.283619           0.241809\n",
       "std      1863.786785           0.312919\n",
       "min         1.000000           0.000000\n",
       "25%         2.000000           0.000000\n",
       "50%        19.000000           0.100000\n",
       "75%        76.000000           0.390000\n",
       "max     31915.000000           1.000000"
      ]
     },
     "execution_count": 41,
     "metadata": {},
     "output_type": "execute_result"
    }
   ],
   "source": [
    "hotel_agent = hotel_cancel(cg_data, 'agent')\n",
    "hotel_agent.describe()"
   ]
  },
  {
   "cell_type": "markdown",
   "metadata": {},
   "source": [
    "We can see from the above table that more than 75% of agencies only have less than 100 bookings. We set a threshold at 500."
   ]
  },
  {
   "cell_type": "code",
   "execution_count": 42,
   "metadata": {},
   "outputs": [
    {
     "name": "stdout",
     "output_type": "stream",
     "text": [
      "There are 26 agencies that have more than 500 bookings in one hotel,\n",
      "and they take up of 83.2 % bookings in all bookings of these two hotels.\n"
     ]
    }
   ],
   "source": [
    "hotel_agent_d = hotel_agent[hotel_agent['total_booking'] > 500]\n",
    "print('There are', len(hotel_agent_d['agent'].drop_duplicates()), 'agencies that have more than 500 bookings in one hotel,')\n",
    "print('and they take up of', round(sum(hotel_agent_d['total_booking'])/sum(hotel_agent['total_booking'])*100, 2),'%',\n",
    "      'bookings in all bookings of these two hotels.')"
   ]
  },
  {
   "cell_type": "markdown",
   "metadata": {},
   "source": [
    "Then we only look at these 26 agencies. Notice that 0 means that the bookings are not made by agents."
   ]
  },
  {
   "cell_type": "code",
   "execution_count": 43,
   "metadata": {},
   "outputs": [
    {
     "data": {
      "image/png": "[encoded data removed]",
      "text/plain": [
       "<Figure size 960x400 with 1 Axes>"
      ]
     },
     "metadata": {
      "needs_background": "light"
     },
     "output_type": "display_data"
    }
   ],
   "source": [
    "sns.set_context({'figure.figsize': [12,5]})\n",
    "ax = sns.barplot(x = 'agent', y = 'cancellation_rate' , hue='hotel_type', data = hotel_agent_d)\n",
    "for i in ax.containers:\n",
    "    ax.bar_label(i)"
   ]
  },
  {
   "cell_type": "markdown",
   "metadata": {},
   "source": [
    "The graph tells:\n",
    "* Most agencies have their preference between the two hotels when making reservations. Or we can say that most agencies make reservations mostly in only one of the two hotels. It can be regarded as the partnerships between agencies and hotels.\n",
    "* There are 17 agencies having more than 500 bookings in City Hotel and 9 agencies in Reosrt Hotel, from which we can also infer that City Hotel has larger number of bookings than Resort Hotel."
   ]
  },
  {
   "cell_type": "markdown",
   "metadata": {},
   "source": [
    "Similarly, we look at `company`."
   ]
  },
  {
   "cell_type": "code",
   "execution_count": 44,
   "metadata": {},
   "outputs": [
    {
     "data": {
      "text/html": [
       "<div>\n",
       "<style scoped>\n",
       "    .dataframe tbody tr th:only-of-type {\n",
       "        vertical-align: middle;\n",
       "    }\n",
       "\n",
       "    .dataframe tbody tr th {\n",
       "        vertical-align: top;\n",
       "    }\n",
       "\n",
       "    .dataframe thead th {\n",
       "        text-align: right;\n",
       "    }\n",
       "</style>\n",
       "<table border=\"1\" class=\"dataframe\">\n",
       "  <thead>\n",
       "    <tr style=\"text-align: right;\">\n",
       "      <th></th>\n",
       "      <th>company</th>\n",
       "      <th>total_booking</th>\n",
       "      <th>cancellation_rate</th>\n",
       "      <th>hotel_type</th>\n",
       "    </tr>\n",
       "  </thead>\n",
       "  <tbody>\n",
       "    <tr>\n",
       "      <th>233</th>\n",
       "      <td>0</td>\n",
       "      <td>75477</td>\n",
       "      <td>0.43</td>\n",
       "      <td>City hotel</td>\n",
       "    </tr>\n",
       "    <tr>\n",
       "      <th>0</th>\n",
       "      <td>0</td>\n",
       "      <td>36645</td>\n",
       "      <td>0.29</td>\n",
       "      <td>Resort hotel</td>\n",
       "    </tr>\n",
       "    <tr>\n",
       "      <th>371</th>\n",
       "      <td>40</td>\n",
       "      <td>921</td>\n",
       "      <td>0.08</td>\n",
       "      <td>City hotel</td>\n",
       "    </tr>\n",
       "    <tr>\n",
       "      <th>43</th>\n",
       "      <td>223</td>\n",
       "      <td>784</td>\n",
       "      <td>0.15</td>\n",
       "      <td>Resort hotel</td>\n",
       "    </tr>\n",
       "    <tr>\n",
       "      <th>422</th>\n",
       "      <td>67</td>\n",
       "      <td>267</td>\n",
       "      <td>0.66</td>\n",
       "      <td>City hotel</td>\n",
       "    </tr>\n",
       "    <tr>\n",
       "      <th>397</th>\n",
       "      <td>45</td>\n",
       "      <td>249</td>\n",
       "      <td>0.11</td>\n",
       "      <td>City hotel</td>\n",
       "    </tr>\n",
       "  </tbody>\n",
       "</table>\n",
       "</div>"
      ],
      "text/plain": [
       "    company  total_booking  cancellation_rate    hotel_type\n",
       "233       0          75477               0.43    City hotel\n",
       "0         0          36645               0.29  Resort hotel\n",
       "371      40            921               0.08    City hotel\n",
       "43      223            784               0.15  Resort hotel\n",
       "422      67            267               0.66    City hotel\n",
       "397      45            249               0.11    City hotel"
      ]
     },
     "execution_count": 44,
     "metadata": {},
     "output_type": "execute_result"
    }
   ],
   "source": [
    "hotel_cancel(cg_data, 'company').sort_values(by = ['total_booking'], ascending = False).head(6)"
   ]
  },
  {
   "cell_type": "markdown",
   "metadata": {},
   "source": [
    "Most bookings (112122/118726) are not made by companies. For modeling, we can take company 40 and company 223 into consideration, since they are the only two that have relatively large total bookings and significantly low cancellation rate compared to those bookings not made by companies."
   ]
  },
  {
   "cell_type": "markdown",
   "metadata": {},
   "source": [
    "### 2.2 Feature Engineering"
   ]
  },
  {
   "cell_type": "markdown",
   "metadata": {},
   "source": [
    "#### 2.2.1 Features Added\n",
    "Just as we analysed before, we will add one feature `same_room_type`, where 1 represents that the assigned room type is same as the reserved room type and 0 represents different room types between reservation and assignment."
   ]
  },
  {
   "cell_type": "code",
   "execution_count": 46,
   "metadata": {},
   "outputs": [],
   "source": [
    "d['same_room_type'] = (cg_data['reserved_room_type'] == cg_data['assigned_room_type']).astype(int)"
   ]
  },
  {
   "cell_type": "markdown",
   "metadata": {},
   "source": [
    "#### 2.2.2 Features Eliminated\n",
    "* We will eliminate `assigned_room_type`, since it can be effectively represented by our new feature `same_room_type`.\n",
    "* We will eliminate `deposit_type` because of the possible wrong data based on our analysis before.\n",
    "* We will eliminate `arrival_date_week_number` and `arrival_date_year` because:\n",
    "  1. The week of the arrival date can be fully represented by the month and the day of the arrival date. The latter two are more intuitive and already contained in our data.\n",
    "  2. The years of our data are too far away from the present. What we want to do is the prediction of future cancellation, so it is not meaningful to contain the year of the arrival date in our model."
   ]
  },
  {
   "cell_type": "code",
   "execution_count": 47,
   "metadata": {},
   "outputs": [],
   "source": [
    "d = d.drop(columns = ['assigned_room_type', 'deposit_type', 'arrival_date_week_number', 'arrival_date_year'])"
   ]
  },
  {
   "cell_type": "markdown",
   "metadata": {},
   "source": [
    "#### 2.2.3 Features Encoded"
   ]
  },
  {
   "cell_type": "markdown",
   "metadata": {},
   "source": [
    "For `arrrival_date_month`, we use 1-12 to replace January to December."
   ]
  },
  {
   "cell_type": "code",
   "execution_count": 48,
   "metadata": {},
   "outputs": [],
   "source": [
    "d.replace(month_name_list, month_num_list, inplace = True)"
   ]
  },
  {
   "cell_type": "markdown",
   "metadata": {},
   "source": [
    "For `country`, `agent`, and `company`, we only take categories with large number of bookings into consideration. In more details, we pick up countries with more than 1000 bookings, agents with more than 500 bookings and companies with more than 500 bookings."
   ]
  },
  {
   "cell_type": "code",
   "execution_count": 49,
   "metadata": {},
   "outputs": [],
   "source": [
    "country_list = country_c_d['country'].values\n",
    "\n",
    "# perform encoding on the country column\n",
    "encoded = pd.get_dummies(d['country'].apply(lambda x: x if x in country_list else 'Other_country'))\n",
    "\n",
    "# merge the encoded dataframe with the original dataframe\n",
    "d = pd.concat([d, encoded], axis = 1)\n",
    "\n",
    "# drop the original country column and the Other_country since it is indirectly encoded in the other columns\n",
    "d.drop(['country', 'Other_country'], axis = 1, inplace = True)"
   ]
  },
  {
   "cell_type": "code",
   "execution_count": 50,
   "metadata": {},
   "outputs": [],
   "source": [
    "agent_list = hotel_agent_d['agent'].drop_duplicates().values\n",
    "encoded = pd.get_dummies(d['agent'].apply(lambda x: x if x in agent_list else 'Other_agent'))\n",
    "d = pd.concat([d, encoded], axis = 1)\n",
    "d.drop(['agent', 'Other_agent'], axis = 1, inplace = True)"
   ]
  },
  {
   "cell_type": "code",
   "execution_count": 51,
   "metadata": {},
   "outputs": [],
   "source": [
    "company_list = ['0', '40', '223']\n",
    "encoded = pd.get_dummies(d['company'].apply(lambda x: x if x in company_list else 'Other_company'))\n",
    "\n",
    "# rename the company ID, in order to tell them apart from agent ID\n",
    "encoded = encoded.rename(columns={'0': '0(company)', '40': '40(company)', '223': '223(company)'})\n",
    "\n",
    "d = pd.concat([d, encoded], axis = 1)\n",
    "d.drop(['company', 'Other_company'], axis = 1, inplace = True)"
   ]
  },
  {
   "cell_type": "markdown",
   "metadata": {},
   "source": [
    "The data after encoding these three features is shown as follows."
   ]
  },
  {
   "cell_type": "code",
   "execution_count": 52,
   "metadata": {},
   "outputs": [
    {
     "data": {
      "text/html": [
       "<div>\n",
       "<style scoped>\n",
       "    .dataframe tbody tr th:only-of-type {\n",
       "        vertical-align: middle;\n",
       "    }\n",
       "\n",
       "    .dataframe tbody tr th {\n",
       "        vertical-align: top;\n",
       "    }\n",
       "\n",
       "    .dataframe thead th {\n",
       "        text-align: right;\n",
       "    }\n",
       "</style>\n",
       "<table border=\"1\" class=\"dataframe\">\n",
       "  <thead>\n",
       "    <tr style=\"text-align: right;\">\n",
       "      <th></th>\n",
       "      <th>CN</th>\n",
       "      <th>DEU</th>\n",
       "      <th>ESP</th>\n",
       "      <th>FRA</th>\n",
       "      <th>GBR</th>\n",
       "      <th>IRL</th>\n",
       "      <th>ITA</th>\n",
       "      <th>NLD</th>\n",
       "      <th>PRT</th>\n",
       "      <th>SWE</th>\n",
       "      <th>...</th>\n",
       "      <th>6</th>\n",
       "      <th>7</th>\n",
       "      <th>8</th>\n",
       "      <th>83</th>\n",
       "      <th>85</th>\n",
       "      <th>9</th>\n",
       "      <th>96</th>\n",
       "      <th>0(company)</th>\n",
       "      <th>223(company)</th>\n",
       "      <th>40(company)</th>\n",
       "    </tr>\n",
       "  </thead>\n",
       "  <tbody>\n",
       "    <tr>\n",
       "      <th>0</th>\n",
       "      <td>0</td>\n",
       "      <td>0</td>\n",
       "      <td>0</td>\n",
       "      <td>0</td>\n",
       "      <td>0</td>\n",
       "      <td>0</td>\n",
       "      <td>0</td>\n",
       "      <td>0</td>\n",
       "      <td>1</td>\n",
       "      <td>0</td>\n",
       "      <td>...</td>\n",
       "      <td>0</td>\n",
       "      <td>0</td>\n",
       "      <td>0</td>\n",
       "      <td>0</td>\n",
       "      <td>0</td>\n",
       "      <td>0</td>\n",
       "      <td>0</td>\n",
       "      <td>1</td>\n",
       "      <td>0</td>\n",
       "      <td>0</td>\n",
       "    </tr>\n",
       "  </tbody>\n",
       "</table>\n",
       "<p>1 rows × 40 columns</p>\n",
       "</div>"
      ],
      "text/plain": [
       "   CN  DEU  ESP  FRA  GBR  IRL  ITA  NLD  PRT  SWE  ...  6  7  8  83  85  9  \\\n",
       "0   0    0    0    0    0    0    0    0    1    0  ...  0  0  0   0   0  0   \n",
       "\n",
       "   96  0(company)  223(company)  40(company)  \n",
       "0   0           1             0            0  \n",
       "\n",
       "[1 rows x 40 columns]"
      ]
     },
     "execution_count": 52,
     "metadata": {},
     "output_type": "execute_result"
    }
   ],
   "source": [
    "d.iloc[0:1, -40:]"
   ]
  },
  {
   "cell_type": "markdown",
   "metadata": {},
   "source": [
    "Remember that we have 12 categorical features. After deleting 2 and encoding the above 4, there are still 6 features. They all have limited (less than 10) catogories, so we directly use OneHotEncode."
   ]
  },
  {
   "cell_type": "code",
   "execution_count": 53,
   "metadata": {},
   "outputs": [],
   "source": [
    "onehot_feature = ['hotel', 'meal', 'market_segment', 'distribution_channel', 'reserved_room_type', 'customer_type']\n",
    "\n",
    "# get column index of onehot_features in our data\n",
    "onehot_column = []\n",
    "for feature in onehot_feature:\n",
    "    onehot_column.append(d.columns.get_loc(feature))\n",
    "    \n",
    "# get column index of other features\n",
    "all_column = list(range(0, d.shape[1]))\n",
    "others_column = list(set(all_column) - set(onehot_column))"
   ]
  },
  {
   "cell_type": "code",
   "execution_count": 54,
   "metadata": {},
   "outputs": [],
   "source": [
    "ONE = OneHotEncoder(drop = 'first')\n",
    "\n",
    "encoder = ColumnTransformer([\n",
    "    ('others', 'passthrough', others_column),\n",
    "    ('onehot', ONE, onehot_column),\n",
    "])\n",
    "\n",
    "d = encoder.fit_transform(d)"
   ]
  },
  {
   "cell_type": "code",
   "execution_count": 56,
   "metadata": {},
   "outputs": [],
   "source": [
    "# get features' names after encoded\n",
    "column_names = encoder.get_feature_names_out()\n",
    "for i in range(len(column_names)):\n",
    "    column_names[i] = column_names[i][8:]"
   ]
  },
  {
   "cell_type": "code",
   "execution_count": 57,
   "metadata": {},
   "outputs": [
    {
     "data": {
      "text/plain": [
       "(118726, 86)"
      ]
     },
     "execution_count": 57,
     "metadata": {},
     "output_type": "execute_result"
    }
   ],
   "source": [
    "# the data used to build the model\n",
    "d = pd.DataFrame(d, columns = column_names)\n",
    "d.shape"
   ]
  },
  {
   "cell_type": "code",
   "execution_count": 58,
   "metadata": {},
   "outputs": [],
   "source": [
    "#d.to_csv('final_data.csv')"
   ]
  },
  {
   "cell_type": "markdown",
   "metadata": {},
   "source": [
    "## 3. Model Fitting and Tuning"
   ]
  },
  {
   "cell_type": "markdown",
   "metadata": {},
   "source": [
    "*In this section you should detail your choice of model and describe the process used to refine and fit that model.*\n",
    "\n",
    "- You are strongly encouraged to explore many different modeling methods (e.g. logistic regression, classification trees, SVC, etc.) but you should not include a detailed narrative of all of these attempts. \n",
    "- At most this section should mention the methods explored and why they were rejected - most of your effort should go into describing the model you are using and your process for tuning and validatin it.\n",
    "\n",
    "*For example if you considered a logistic regression model, a classification tree, and a SVC model and ultimately settled on the logistic regression approach then you should mention that other two approaches were tried but do not include any of the code or any in depth discussion of these models beyond why they were rejected. This section should then detail is the development of the logistic regression model in terms of features used, interactions considered, and any additional tuning and validation which ultimately led to your final model.* \n",
    "\n",
    "**This section should also include the full implementation of your final model, including all necessary validation. As with figures, any included code must also be addressed in the text of the document.**"
   ]
  },
  {
   "cell_type": "code",
   "execution_count": 59,
   "metadata": {},
   "outputs": [],
   "source": [
    "filneame = './final_data.csv'"
   ]
  },
  {
   "cell_type": "markdown",
   "metadata": {},
   "source": [
    "## 4. Discussion & Conclusions\n"
   ]
  },
  {
   "cell_type": "markdown",
   "metadata": {},
   "source": [
    "*In this section you should provide a general overview of **your final model**, its **performance**, and **reliability**.* \n",
    "\n",
    "Your report must include the following:\n",
    "\n",
    "* Some discussion of the features that are most important for predicting a cancelation - we do not need discussion of specific coefficient values but direction of the effect should be clear (e.g. the earlier a booking is made the more likely it is to be canceled).\n",
    "\n",
    "* A validated assessment of your model's performance, but this must be specifically discussed in the context of bookings and running a hotel. \n",
    "\n",
    "* It is not sufficient to report summary statistics like the accuracy or AUC - you must address the perfomance in terms of potential gains and losses for the hotel (e.g. think about what happens if your model predicts a cancelation that does not actually occur and a room ends up being double booked or vice versa). \n",
    "\n",
    "* Explain why you think your particular model would or would not be economically viable."
   ]
  },
  {
   "cell_type": "markdown",
   "metadata": {},
   "source": [
    "## 5. References\n",
    "\n",
    "*In this section, you should present a list of external sources (except the course materials) that you used during the project, if any*\n",
    "\n",
    "- Additional data sources can be cited here, in addition to related python documentations, any other webpage sources that you benefited from"
   ]
  }
 ],
 "metadata": {
  "kernelspec": {
   "display_name": "Python 3",
   "language": "python",
   "name": "python3"
  },
  "language_info": {
   "codemirror_mode": {
    "name": "ipython",
    "version": 3
   },
   "file_extension": ".py",
   "mimetype": "text/x-python",
   "name": "python",
   "nbconvert_exporter": "python",
   "pygments_lexer": "ipython3",
   "version": "3.9.12"
  }
 },
 "nbformat": 4,
 "nbformat_minor": 4
}
